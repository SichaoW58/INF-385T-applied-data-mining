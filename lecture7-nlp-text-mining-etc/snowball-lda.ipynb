{
 "cells": [
  {
   "cell_type": "code",
   "execution_count": 1,
   "metadata": {
    "collapsed": false
   },
   "outputs": [],
   "source": [
    "import warnings\n",
    "warnings.filterwarnings('ignore')\n",
    "\n",
    "import gensim\n",
    "from gensim import matutils, corpora\n",
    "from gensim.models.ldamodel import LdaModel\n",
    "import pandas as pd\n",
    "import nltk\n",
    "import sklearn\n",
    "from sklearn.feature_extraction.text import CountVectorizer\n",
    "import pyLDAvis\n",
    "import pyLDAvis.gensim\n",
    "import numpy as np \n",
    "import snowball"
   ]
  },
  {
   "cell_type": "code",
   "execution_count": 4,
   "metadata": {
    "collapsed": false
   },
   "outputs": [],
   "source": [
    "###\n",
    "# load our corpus with Pandas; this is a tab-separate file of tweets\n",
    "tweet_data = pd.read_csv(\"CancerReport-clean-whitelisted-en.txt\", delimiter=\"\\t\")"
   ]
  },
  {
   "cell_type": "code",
   "execution_count": 5,
   "metadata": {
    "collapsed": false
   },
   "outputs": [
    {
     "data": {
      "text/plain": [
       "(13345, 40)"
      ]
     },
     "execution_count": 5,
     "metadata": {},
     "output_type": "execute_result"
    }
   ],
   "source": [
    "tweet_data.shape\n",
    "#dir(snowball)"
   ]
  },
  {
   "cell_type": "code",
   "execution_count": 6,
   "metadata": {
    "collapsed": false
   },
   "outputs": [
    {
     "data": {
      "text/html": [
       "<div>\n",
       "<table border=\"1\" class=\"dataframe\">\n",
       "  <thead>\n",
       "    <tr style=\"text-align: right;\">\n",
       "      <th></th>\n",
       "      <th>tweet_id</th>\n",
       "      <th>tweet_text</th>\n",
       "      <th>tweet_created_at</th>\n",
       "      <th>in_reply_to_status_id_str</th>\n",
       "      <th>in_reply_to_screen_name</th>\n",
       "      <th>retweet_count</th>\n",
       "      <th>favorite_count</th>\n",
       "      <th>machine_translated_language</th>\n",
       "      <th>geo_lat</th>\n",
       "      <th>geo_long</th>\n",
       "      <th>...</th>\n",
       "      <th>retweet_created_at</th>\n",
       "      <th>retweet_screen_name</th>\n",
       "      <th>retweet_user_created_at</th>\n",
       "      <th>retweet_person_name</th>\n",
       "      <th>retweet_statuses_count</th>\n",
       "      <th>retweet_friends_count</th>\n",
       "      <th>retweet_followers_count</th>\n",
       "      <th>retweet_urls</th>\n",
       "      <th>retweet_hashtag_text</th>\n",
       "      <th>retweet_usermentions_screen_name</th>\n",
       "    </tr>\n",
       "  </thead>\n",
       "  <tbody>\n",
       "    <tr>\n",
       "      <th>0</th>\n",
       "      <td>185081180222263297</td>\n",
       "      <td>My arm is so sore :( had a HPV injection at sc...</td>\n",
       "      <td>2012-03-28 15:09:26</td>\n",
       "      <td>NaN</td>\n",
       "      <td>NaN</td>\n",
       "      <td>NaN</td>\n",
       "      <td>NaN</td>\n",
       "      <td>NaN</td>\n",
       "      <td>0</td>\n",
       "      <td>0</td>\n",
       "      <td>...</td>\n",
       "      <td>NaN</td>\n",
       "      <td>NaN</td>\n",
       "      <td>NaN</td>\n",
       "      <td>NaN</td>\n",
       "      <td>NaN</td>\n",
       "      <td>NaN</td>\n",
       "      <td>NaN</td>\n",
       "      <td>NaN</td>\n",
       "      <td>NaN</td>\n",
       "      <td>NaN</td>\n",
       "    </tr>\n",
       "    <tr>\n",
       "      <th>1</th>\n",
       "      <td>185096288109461507</td>\n",
       "      <td>MsRhea Mike   HEALTHY Wednesday Awareness  mak...</td>\n",
       "      <td>2012-03-28 16:09:28</td>\n",
       "      <td>NaN</td>\n",
       "      <td>NaN</td>\n",
       "      <td>NaN</td>\n",
       "      <td>NaN</td>\n",
       "      <td>NaN</td>\n",
       "      <td>0</td>\n",
       "      <td>0</td>\n",
       "      <td>...</td>\n",
       "      <td>NaN</td>\n",
       "      <td>NaN</td>\n",
       "      <td>NaN</td>\n",
       "      <td>NaN</td>\n",
       "      <td>NaN</td>\n",
       "      <td>NaN</td>\n",
       "      <td>NaN</td>\n",
       "      <td>NaN</td>\n",
       "      <td>NaN</td>\n",
       "      <td>NaN</td>\n",
       "    </tr>\n",
       "    <tr>\n",
       "      <th>2</th>\n",
       "      <td>185108334121193472</td>\n",
       "      <td>@xomorgyyxo I asked him three times if it was ...</td>\n",
       "      <td>2012-03-28 16:57:20</td>\n",
       "      <td>NaN</td>\n",
       "      <td>NaN</td>\n",
       "      <td>NaN</td>\n",
       "      <td>NaN</td>\n",
       "      <td>NaN</td>\n",
       "      <td>0</td>\n",
       "      <td>0</td>\n",
       "      <td>...</td>\n",
       "      <td>NaN</td>\n",
       "      <td>NaN</td>\n",
       "      <td>NaN</td>\n",
       "      <td>NaN</td>\n",
       "      <td>NaN</td>\n",
       "      <td>NaN</td>\n",
       "      <td>NaN</td>\n",
       "      <td>NaN</td>\n",
       "      <td>NaN</td>\n",
       "      <td>NaN</td>\n",
       "    </tr>\n",
       "    <tr>\n",
       "      <th>3</th>\n",
       "      <td>185070816092880896</td>\n",
       "      <td>Just informed by a 26 year old  Human papillom...</td>\n",
       "      <td>2012-03-28 14:28:15</td>\n",
       "      <td>NaN</td>\n",
       "      <td>NaN</td>\n",
       "      <td>NaN</td>\n",
       "      <td>NaN</td>\n",
       "      <td>NaN</td>\n",
       "      <td>0</td>\n",
       "      <td>0</td>\n",
       "      <td>...</td>\n",
       "      <td>NaN</td>\n",
       "      <td>NaN</td>\n",
       "      <td>NaN</td>\n",
       "      <td>NaN</td>\n",
       "      <td>NaN</td>\n",
       "      <td>NaN</td>\n",
       "      <td>NaN</td>\n",
       "      <td>NaN</td>\n",
       "      <td>NaN</td>\n",
       "      <td>NaN</td>\n",
       "    </tr>\n",
       "    <tr>\n",
       "      <th>4</th>\n",
       "      <td>185173819793735680</td>\n",
       "      <td>If someone tells you that \"everybody\" has HPV ...</td>\n",
       "      <td>2012-03-28 21:17:33</td>\n",
       "      <td>NaN</td>\n",
       "      <td>NaN</td>\n",
       "      <td>NaN</td>\n",
       "      <td>NaN</td>\n",
       "      <td>NaN</td>\n",
       "      <td>0</td>\n",
       "      <td>0</td>\n",
       "      <td>...</td>\n",
       "      <td>NaN</td>\n",
       "      <td>NaN</td>\n",
       "      <td>NaN</td>\n",
       "      <td>NaN</td>\n",
       "      <td>NaN</td>\n",
       "      <td>NaN</td>\n",
       "      <td>NaN</td>\n",
       "      <td>NaN</td>\n",
       "      <td>NaN</td>\n",
       "      <td>NaN</td>\n",
       "    </tr>\n",
       "  </tbody>\n",
       "</table>\n",
       "<p>5 rows × 40 columns</p>\n",
       "</div>"
      ],
      "text/plain": [
       "             tweet_id                                         tweet_text  \\\n",
       "0  185081180222263297  My arm is so sore :( had a HPV injection at sc...   \n",
       "1  185096288109461507  MsRhea Mike   HEALTHY Wednesday Awareness  mak...   \n",
       "2  185108334121193472  @xomorgyyxo I asked him three times if it was ...   \n",
       "3  185070816092880896  Just informed by a 26 year old  Human papillom...   \n",
       "4  185173819793735680  If someone tells you that \"everybody\" has HPV ...   \n",
       "\n",
       "      tweet_created_at in_reply_to_status_id_str in_reply_to_screen_name  \\\n",
       "0  2012-03-28 15:09:26                       NaN                     NaN   \n",
       "1  2012-03-28 16:09:28                       NaN                     NaN   \n",
       "2  2012-03-28 16:57:20                       NaN                     NaN   \n",
       "3  2012-03-28 14:28:15                       NaN                     NaN   \n",
       "4  2012-03-28 21:17:33                       NaN                     NaN   \n",
       "\n",
       "   retweet_count  favorite_count machine_translated_language  geo_lat  \\\n",
       "0            NaN             NaN                         NaN        0   \n",
       "1            NaN             NaN                         NaN        0   \n",
       "2            NaN             NaN                         NaN        0   \n",
       "3            NaN             NaN                         NaN        0   \n",
       "4            NaN             NaN                         NaN        0   \n",
       "\n",
       "   geo_long                ...                retweet_created_at  \\\n",
       "0         0                ...                               NaN   \n",
       "1         0                ...                               NaN   \n",
       "2         0                ...                               NaN   \n",
       "3         0                ...                               NaN   \n",
       "4         0                ...                               NaN   \n",
       "\n",
       "  retweet_screen_name retweet_user_created_at retweet_person_name  \\\n",
       "0                 NaN                     NaN                 NaN   \n",
       "1                 NaN                     NaN                 NaN   \n",
       "2                 NaN                     NaN                 NaN   \n",
       "3                 NaN                     NaN                 NaN   \n",
       "4                 NaN                     NaN                 NaN   \n",
       "\n",
       "  retweet_statuses_count retweet_friends_count retweet_followers_count  \\\n",
       "0                    NaN                   NaN                     NaN   \n",
       "1                    NaN                   NaN                     NaN   \n",
       "2                    NaN                   NaN                     NaN   \n",
       "3                    NaN                   NaN                     NaN   \n",
       "4                    NaN                   NaN                     NaN   \n",
       "\n",
       "   retweet_urls  retweet_hashtag_text  retweet_usermentions_screen_name  \n",
       "0           NaN                   NaN                               NaN  \n",
       "1           NaN                   NaN                               NaN  \n",
       "2           NaN                   NaN                               NaN  \n",
       "3           NaN                   NaN                               NaN  \n",
       "4           NaN                   NaN                               NaN  \n",
       "\n",
       "[5 rows x 40 columns]"
      ]
     },
     "execution_count": 6,
     "metadata": {},
     "output_type": "execute_result"
    }
   ],
   "source": [
    "tweet_data.head()"
   ]
  },
  {
   "cell_type": "code",
   "execution_count": 7,
   "metadata": {
    "collapsed": true
   },
   "outputs": [],
   "source": [
    "primary_tweets = tweet_data[tweet_data[\"retweet\"] == False]"
   ]
  },
  {
   "cell_type": "code",
   "execution_count": 8,
   "metadata": {
    "collapsed": false
   },
   "outputs": [],
   "source": [
    "tweets = tweet_data[\"tweet_text\"].tolist()"
   ]
  },
  {
   "cell_type": "code",
   "execution_count": 9,
   "metadata": {
    "collapsed": false
   },
   "outputs": [
    {
     "data": {
      "text/plain": [
       "\"My arm is so sore :( had a HPV injection at school today :'( xxx\""
      ]
     },
     "execution_count": 9,
     "metadata": {},
     "output_type": "execute_result"
    }
   ],
   "source": [
    "tweets[0]"
   ]
  },
  {
   "cell_type": "code",
   "execution_count": 10,
   "metadata": {
    "collapsed": false
   },
   "outputs": [],
   "source": [
    "# this will be *all* tweets; independent of the hashtag\n",
    "toked_tweets, kept_indices = snowball.build_gensim_corpus(tweets)"
   ]
  },
  {
   "cell_type": "code",
   "execution_count": 11,
   "metadata": {
    "collapsed": false
   },
   "outputs": [
    {
     "name": "stdout",
     "output_type": "stream",
     "text": [
      "['arm', 'sore', 'hpv', 'injection', 'school', 'today', 'xxx']\n"
     ]
    }
   ],
   "source": [
    "print(list(toked_tweets[0]))"
   ]
  },
  {
   "cell_type": "code",
   "execution_count": 15,
   "metadata": {
    "collapsed": false
   },
   "outputs": [],
   "source": [
    "dictionary = corpora.Dictionary(toked_tweets)\n",
    "print(dictionary)"
   ]
  },
  {
   "cell_type": "code",
   "execution_count": 21,
   "metadata": {
    "collapsed": false
   },
   "outputs": [],
   "source": [
    "gensim_corpus = [dictionary.doc2bow(tweet) for tweet in toked_tweets]"
   ]
  },
  {
   "cell_type": "code",
   "execution_count": 20,
   "metadata": {
    "collapsed": false
   },
   "outputs": [],
   "source": [
    "# this takes quite some time!\n",
    "lda = LdaModel(gensim_corpus, num_topics=10,\n",
    "               passes=10, alpha=0.001, \n",
    "               id2word=dictionary)"
   ]
  },
  {
   "cell_type": "code",
   "execution_count": 22,
   "metadata": {
    "collapsed": false
   },
   "outputs": [
    {
     "data": {
      "text/plain": [
       "['0.046*rt + 0.036*amp + 0.024*women + 0.023*planned + 0.022*parenthood + 0.022*breast + 0.014*screenings + 0.013*control + 0.011*hiv + 0.010*died',\n",
       " '0.107*http + 0.103*co + 0.101*hpv + 0.069*vaccine + 0.039*rt + 0.027*girls + 0.027*gardasil + 0.021*vaccines + 0.020*boys + 0.016*vaccination',\n",
       " '0.153*cancer + 0.139*cervical + 0.093*http + 0.088*co + 0.046*rt + 0.017*women + 0.017*screening + 0.010*prevent + 0.010*awareness + 0.009*amp',\n",
       " '0.031*vax + 0.030*hpv + 0.029*dr + 0.023*exams + 0.014*low + 0.013*mother + 0.012*must + 0.012*see + 0.011*strains + 0.011*affordable',\n",
       " '0.048*http + 0.047*co + 0.027*hpv + 0.017*amp + 0.012*lead + 0.012*rates + 0.011*dangerous + 0.011*hiv + 0.011*review + 0.010*deadly',\n",
       " '0.101*co + 0.093*http + 0.052*gardasil + 0.041*rt + 0.040*gt + 0.025*hpv + 0.022*vaccine + 0.016*https + 0.010*via + 0.006*de',\n",
       " '0.044*cancer + 0.042*hpv + 0.041*get + 0.041*cervical + 0.031*shot + 0.026*rt + 0.020*got + 0.014*please + 0.012*today + 0.012*age',\n",
       " '0.136*hpv + 0.041*rt + 0.022*human + 0.021*warts + 0.018*caused + 0.017*genital + 0.017*virus + 0.016*papillomavirus + 0.015*types + 0.013*men',\n",
       " '0.105*hpv + 0.099*http + 0.097*co + 0.043*vaccine + 0.026*rt + 0.018*cancer + 0.016*study + 0.011*risk + 0.011*new + 0.010*sex',\n",
       " '0.181*pap + 0.126*smear + 0.057*rt + 0.054*smears + 0.019*get + 0.017*like + 0.015*test + 0.013*tests + 0.011*need + 0.011*much']"
      ]
     },
     "execution_count": 22,
     "metadata": {},
     "output_type": "execute_result"
    }
   ],
   "source": [
    "lda.show_topics()"
   ]
  },
  {
   "cell_type": "code",
   "execution_count": 23,
   "metadata": {
    "collapsed": false
   },
   "outputs": [],
   "source": [
    "for_viz = pyLDAvis.gensim.prepare(lda, gensim_corpus, dictionary)"
   ]
  },
  {
   "cell_type": "code",
   "execution_count": 24,
   "metadata": {
    "collapsed": false
   },
   "outputs": [
    {
     "data": {
      "text/html": [
       "\n",
       "<link rel=\"stylesheet\" type=\"text/css\" href=\"https://cdn.rawgit.com/bmabey/pyLDAvis/files/ldavis.v1.0.0.css\">\n",
       "\n",
       "\n",
       "<div id=\"ldavis_el5347745917543608647648856\"></div>\n",
       "<script type=\"text/javascript\">\n",
       "\n",
       "var ldavis_el5347745917543608647648856_data = {\"plot.opts\": {\"xlab\": \"PC1\", \"ylab\": \"PC2\"}, \"token.table\": {\"Topic\": [2, 2, 9, 9, 7, 4, 10, 3, 10, 1, 4, 1, 6, 4, 2, 5, 2, 7, 8, 10, 6, 4, 6, 7, 8, 10, 5, 6, 1, 2, 9, 1, 2, 3, 4, 5, 6, 7, 8, 9, 10, 7, 10, 4, 10, 3, 3, 9, 8, 5, 3, 1, 5, 10, 6, 8, 7, 4, 8, 9, 1, 2, 1, 8, 10, 7, 8, 9, 1, 3, 2, 3, 1, 8, 6, 7, 10, 1, 1, 2, 4, 6, 9, 1, 2, 3, 7, 7, 1, 3, 4, 5, 1, 1, 2, 3, 7, 10, 7, 1, 2, 2, 1, 6, 6, 1, 2, 7, 1, 4, 8, 3, 6, 9, 10, 5, 2, 6, 9, 5, 6, 3, 1, 2, 3, 4, 7, 9, 8, 10, 1, 7, 10, 3, 1, 2, 7, 2, 8, 5, 10, 1, 7, 8, 8, 5, 6, 5, 10, 1, 3, 2, 1, 9, 3, 3, 4, 8, 10, 4, 3, 9, 2, 10, 9, 6, 10, 2, 9, 1, 6, 4, 8, 1, 4, 8, 2, 7, 5, 2, 4, 5, 6, 8, 1, 5, 3, 7, 2, 4, 10, 10, 10, 4, 9, 9, 4, 3, 6, 1, 2, 9, 10, 8, 2, 10, 3, 8, 4, 9, 3, 2, 9, 10, 1, 5, 6, 8, 4, 1, 10, 9, 8, 3, 7, 8, 8, 1, 5, 3, 2, 2, 6, 1, 6, 2, 9, 8, 1, 3, 4, 5, 8, 5, 5, 8, 3, 6, 6, 10, 6, 6, 3, 4, 6, 7, 7, 6, 3, 5, 6, 7, 8, 2, 3, 5, 6, 10, 2, 4, 6, 7, 2, 3, 6, 9, 10, 3, 3, 1, 5, 6, 8, 10, 5, 6, 2, 3, 5, 6, 9, 2, 5, 6, 10, 4, 7, 3, 1, 4, 5, 7, 7, 4, 10, 1, 10, 8, 6, 6, 10, 4, 1, 2, 3, 4, 8, 1, 2, 1, 4, 4, 9, 1, 2, 2, 4, 9, 10, 9, 9, 2, 2, 7, 8, 9, 10, 10, 2, 3, 4, 6, 7, 8, 9, 10, 2, 6, 1, 2, 3, 4, 7, 9, 1, 4, 2, 7, 6, 7, 9, 8, 2, 4, 9, 9, 6, 2, 10, 3, 2, 7, 2, 7, 8, 4, 8, 8, 3, 3, 10, 4, 8, 3, 7, 4, 3, 8, 10, 9, 4, 1, 2, 5, 6, 3, 5, 6, 1, 2, 5, 6, 7, 8, 7, 3, 4, 9, 4, 5, 5, 6, 4, 2, 4, 9, 9, 2, 2, 4, 9, 1, 10, 7, 4, 6, 10, 5, 6, 8, 10, 2, 3, 6, 8, 1, 10, 2, 3, 5, 1, 8, 10, 2, 5, 6, 9, 6, 7, 5, 9, 6, 7, 9, 10, 6, 7, 7, 8, 4, 9, 4, 1, 2, 5, 8, 10, 2, 4, 1, 2, 3, 2, 3, 9, 2, 1, 2, 7, 3, 4, 6, 2, 5, 7, 8, 1, 7, 5, 4, 5, 6, 8, 1, 1, 4, 10, 6, 5, 6, 6, 10, 5, 10, 9, 2, 7, 3, 10, 1, 2, 3, 5, 5, 5, 7, 9, 1, 2, 3, 4, 1, 2, 3, 4, 1, 10, 7, 2, 6, 8, 4, 9, 8, 3, 1, 7, 1, 1, 4, 8, 10, 9, 1, 2, 4, 5, 6, 7, 8, 10, 7, 10, 5, 2, 1, 4, 7, 9, 5, 10, 6, 7, 8, 2, 4, 9, 6, 4, 1, 10, 3, 6, 7, 10, 10, 2, 1, 4, 10, 8, 1, 8, 1, 4, 6, 10, 7, 8, 4, 8, 7, 8, 4, 6, 1, 2, 6, 10, 1, 2, 7, 4, 5, 5, 8, 3, 6, 6, 3, 7, 6, 2, 1, 3, 7, 5, 5, 2, 7, 1, 9, 2, 3, 9, 3, 10, 4, 8, 6, 10, 4, 7, 2, 6, 2, 1, 2, 10, 9, 9, 5, 4, 3, 5, 1, 2, 5, 1, 2, 3, 4, 5, 6, 7, 8, 9, 10, 9, 9, 4, 3, 4, 8, 4, 5, 4, 3, 9, 3, 1, 1, 8, 1, 1, 2, 4, 10, 6, 5, 7, 3, 10, 3, 9, 2, 5, 7, 7, 10, 9, 1, 4, 10, 6, 3, 6, 5, 3, 1, 1, 8, 2, 9, 5, 10, 1, 1, 5, 8, 6, 8, 9, 9, 7, 9, 8, 4, 10, 7, 2, 5, 9, 1, 2, 5, 7, 10, 9, 1, 4, 8, 10, 7, 9, 1, 6, 2, 3, 8, 7, 1, 5, 1, 1, 4, 5, 8, 5, 4, 2, 4, 10, 6, 1, 1, 2, 5, 5, 1, 5, 7, 9, 5, 7, 7, 6, 6, 2, 6, 7, 8, 10, 10, 1, 2, 5, 6, 9, 8, 8, 1, 2, 7, 2, 4, 10, 7, 7, 10, 8, 4, 7, 1, 3, 10, 2, 4, 3, 4, 8, 1, 2, 3, 4, 7, 9, 2, 3, 4, 10, 2, 3, 10, 2, 10, 1, 1, 2, 3, 4, 9, 3, 1, 2, 3, 7, 6, 10, 7, 5, 8, 4, 8, 1, 9, 7, 4, 1, 7, 9, 6, 1, 6, 7, 2, 3, 6, 7, 8, 6, 10, 3, 1, 2, 6, 8, 1, 2, 5, 6, 8, 9, 2, 1, 6, 7, 8, 4, 5, 6, 1, 3, 4, 5, 6, 8, 10, 1, 2, 3, 4, 9, 4, 5, 3], \"Term\": [\"ab\", \"abnormal\", \"abortions\", \"abstinence\", \"account\", \"action\", \"active\", \"adverse\", \"affordable\", \"africa\", \"ag\", \"age\", \"age\", \"agency\", \"ages\", \"aha\", \"ahcc\", \"aim\", \"ajkej\", \"alloy\", \"almost\", \"also\", \"also\", \"also\", \"also\", \"also\", \"always\", \"amazing\", \"among\", \"among\", \"among\", \"amp\", \"amp\", \"amp\", \"amp\", \"amp\", \"amp\", \"amp\", \"amp\", \"amp\", \"amp\", \"approved\", \"art\", \"ask\", \"ask\", \"aspiesmom\", \"assessed\", \"associated\", \"australia\", \"avatar\", \"award\", \"awareness\", \"awkward\", \"awkwardquestion\", \"bad\", \"badastronomer\", \"balance\", \"bc\", \"become\", \"begin\", \"begun\", \"believes\", \"ben\", \"bernie\", \"beyond\", \"birth\", \"birthday\", \"bishop\", \"blamed\", \"botched\", \"boys\", \"boys\", \"breast\", \"breast\", \"bride\", \"bro\", \"bullying\", \"camps\", \"cancer\", \"cancer\", \"cancer\", \"cancer\", \"cancer\", \"cancers\", \"cancers\", \"cancers\", \"cancers\", \"caps\", \"care\", \"care\", \"care\", \"care\", \"caught\", \"cause\", \"cause\", \"cause\", \"cause\", \"cause\", \"caused\", \"causes\", \"causes\", \"cdcstd\", \"cervical\", \"cervical\", \"cervicalca\", \"cervicalscreen\", \"changed\", \"chicken\", \"child\", \"child\", \"child\", \"children\", \"children\", \"china\", \"claim\", \"clap\", \"clarify\", \"clarify\", \"clean\", \"clinic\", \"clinic\", \"closed\", \"co\", \"co\", \"co\", \"co\", \"co\", \"co\", \"collectiveevol\", \"colposcopy\", \"columbia\", \"come\", \"come\", \"comes\", \"common\", \"common\", \"common\", \"compound\", \"comprehensive\", \"condoms\", \"condoms\", \"conducting\", \"condyloma\", \"contraception\", \"control\", \"convulse\", \"cos\", \"cruz\", \"cut\", \"cxca\", \"damage\", \"damages\", \"danafarber\", \"dangerous\", \"danish\", \"date\", \"daughter\", \"daughter\", \"daughter\", \"de\", \"deadly\", \"deadly\", \"debbybruck\", \"debilitating\", \"defund\", \"delayed\", \"delivery\", \"denmark\", \"developer\", \"diagnosed\", \"diagnosed\", \"died\", \"died\", \"dies\", \"dies\", \"diet\", \"discoveries\", \"discrimination\", \"discusses\", \"doctor\", \"doctor\", \"doctor\", \"doctor\", \"doctor\", \"documentary\", \"doh\", \"doritmi\", \"dose\", \"dr\", \"dr\", \"dr\", \"dre\", \"drfriedencdc\", \"drjengunter\", \"drug\", \"dt\", \"du\", \"due\", \"due\", \"early\", \"early\", \"ebv\", \"ed\", \"education\", \"effective\", \"effective\", \"effects\", \"epidemic\", \"eu\", \"eurekamag\", \"european\", \"even\", \"even\", \"even\", \"every\", \"every\", \"every\", \"every\", \"evil\", \"evzoeas\", \"exams\", \"experts\", \"expired\", \"extract\", \"ey\", \"faces\", \"fact\", \"fast\", \"fatherhood\", \"fda\", \"federal\", \"felt\", \"festival\", \"fight\", \"film\", \"finds\", \"finds\", \"finneyk\", \"first\", \"first\", \"first\", \"first\", \"first\", \"floor\", \"forced\", \"former\", \"fr\", \"friday\", \"friend\", \"fucked\", \"fucking\", \"funding\", \"gardasil\", \"gardasil\", \"gardasil\", \"gave\", \"genital\", \"genotypes\", \"get\", \"get\", \"get\", \"get\", \"get\", \"getting\", \"getting\", \"getting\", \"getting\", \"getting\", \"giant\", \"girl\", \"girl\", \"girl\", \"girls\", \"girls\", \"girls\", \"girls\", \"giving\", \"glenn\", \"globeandmail\", \"go\", \"go\", \"go\", \"go\", \"goal\", \"going\", \"going\", \"good\", \"good\", \"good\", \"good\", \"google\", \"gop\", \"got\", \"got\", \"got\", \"graders\", \"grateful\", \"greatest\", \"ground\", \"gt\", \"gun\", \"guy\", \"guys\", \"gyjbyszv\", \"hack\", \"haiti\", \"half\", \"handing\", \"handle\", \"hard\", \"hard\", \"harvardhealth\", \"health\", \"health\", \"health\", \"health\", \"health\", \"healthcare\", \"healthcare\", \"healthy\", \"healthy\", \"hearus\", \"hearus\", \"help\", \"help\", \"high\", \"high\", \"high\", \"high\", \"higher\", \"highest\", \"hits\", \"hiv\", \"hiv\", \"hiv\", \"hiv\", \"hiv\", \"hopkinsmedicine\", \"hpv\", \"hpv\", \"hpv\", \"hpv\", \"hpv\", \"hpv\", \"hpv\", \"hpv\", \"hpv_review\", \"ht\", \"http\", \"http\", \"http\", \"http\", \"http\", \"http\", \"https\", \"https\", \"human\", \"human\", \"hxgwhdyp\", \"iamcervivor\", \"iamcervivor\", \"ideas\", \"ignore\", \"illness\", \"im\", \"imagine\", \"immunizations\", \"increase\", \"induced\", \"infants\", \"infection\", \"infection\", \"infections\", \"infections\", \"injecting\", \"injured\", \"injury\", \"investigate\", \"investigating\", \"investigation\", \"iooyc\", \"island\", \"istandwithpp\", \"itsmepanda\", \"jam\", \"january\", \"japan\", \"jeb\", \"job\", \"joegooding\", \"jonrappoport\", \"jotrust\", \"jr\", \"jr\", \"kbcchannel\", \"kids\", \"kids\", \"kids\", \"know\", \"know\", \"know\", \"know\", \"know\", \"know\", \"known\", \"lack\", \"lack\", \"lag\", \"lalaruefrench\", \"land\", \"last\", \"last\", \"launches\", \"laurieadeleluk\", \"lawofsexs\", \"lawsuits\", \"lb\", \"le\", \"lead\", \"lead\", \"lead\", \"learn\", \"learn\", \"lesions\", \"less\", \"less\", \"lets\", \"like\", \"like\", \"like\", \"like\", \"likely\", \"likely\", \"likely\", \"likely\", \"limited\", \"lindacngal\", \"linked\", \"linked\", \"lion\", \"lives\", \"lives\", \"lives\", \"loc\", \"lol\", \"lol\", \"lola\", \"lolgop\", \"long\", \"lose\", \"loses\", \"love\", \"loved\", \"low\", \"low\", \"major\", \"males\", \"mammogram\", \"mammograms\", \"mandate\", \"mandated\", \"mandates\", \"many\", \"many\", \"many\", \"many\", \"many\", \"market\", \"market\", \"may\", \"may\", \"may\", \"medical\", \"medical\", \"medical\", \"medicines\", \"mediterranean\", \"men\", \"men\", \"merck\", \"merck\", \"midnight\", \"might\", \"might\", \"might\", \"might\", \"mil\", \"miles_wilma\", \"mimki\", \"modified\", \"mom\", \"mom\", \"mom\", \"month\", \"mother\", \"mother\", \"mother\", \"move\", \"much\", \"multiple\", \"mum\", \"must\", \"myb\", \"nails\", \"nanny\", \"natural\", \"natvanlis\", \"nbc\", \"nc\", \"need\", \"need\", \"need\", \"need\", \"needed\", \"never\", \"never\", \"never\", \"new\", \"new\", \"new\", \"new\", \"news\", \"news\", \"news\", \"news\", \"next\", \"next\", \"nf\", \"niam\", \"nice\", \"nigeria\", \"nobel\", \"nurses\", \"nvic\", \"nvicloedown\", \"observe\", \"ok\", \"okoye\", \"old\", \"old\", \"old\", \"old\", \"omotayo\", \"one\", \"one\", \"one\", \"one\", \"one\", \"one\", \"one\", \"one\", \"ongoing\", \"op\", \"oq\", \"oral\", \"orgasms\", \"pa_raven\", \"paid\", \"paid\", \"pap\", \"pap\", \"paper\", \"papillomavirus\", \"parenthood\", \"parents\", \"parents\", \"parents\", \"partners\", \"pathogenposse\", \"pathologists\", \"pelvic\", \"people\", \"people\", \"people\", \"people\", \"performer\", \"permanent\", \"peter\", \"peter\", \"pinkout\", \"planned\", \"plannedparenthood\", \"plannedparenthood\", \"please\", \"please\", \"please\", \"point\", \"popular\", \"pp\", \"ppact\", \"ppfa\", \"precancerous\", \"predicts\", \"prenatal\", \"prevalence\", \"prevent\", \"prevent\", \"prevent\", \"prevented\", \"prevention\", \"prevention\", \"prevention\", \"prevents\", \"priorities\", \"private\", \"probe\", \"program\", \"proper\", \"proposed\", \"protect\", \"protect\", \"protective\", \"provides\", \"publishes\", \"pushed\", \"question\", \"quietly\", \"quit\", \"ra\", \"rachel\", \"raise\", \"rate\", \"rates\", \"rates\", \"rates\", \"reactions\", \"real\", \"realdonaldtrump\", \"realdonaldtrump\", \"received\", \"recumbent\", \"regulator\", \"remember\", \"remove\", \"removed\", \"repeat\", \"reprodocs\", \"require\", \"responsible\", \"revealed\", \"review\", \"rexhuppke\", \"rhode\", \"ri\", \"right\", \"risk\", \"risk\", \"rj\", \"rt\", \"rt\", \"rt\", \"rt\", \"rt\", \"rt\", \"rt\", \"rt\", \"rt\", \"rt\", \"run\", \"rural\", \"rz\", \"safety\", \"safety\", \"sanders\", \"sanevaxx\", \"sarahksilverman\", \"sb\", \"school\", \"school\", \"scientist\", \"screening\", \"screenings\", \"screenings\", \"screw\", \"see\", \"see\", \"see\", \"see\", \"selfies\", \"separate\", \"series\", \"serious\", \"serious\", \"severe\", \"severe\", \"sex\", \"sex\", \"sex\", \"sexually\", \"sexually\", \"sharylattkisson\", \"shiitake\", \"shocking\", \"short\", \"shot\", \"shots\", \"shots\", \"shut\", \"side\", \"signs\", \"since\", \"since\", \"sk\", \"slightly\", \"smear\", \"smear\", \"smearforsmear\", \"smearing\", \"smears\", \"smears\", \"someone\", \"sorcha\", \"south\", \"spain\", \"spread\", \"spread\", \"standwithpp\", \"star\", \"star\", \"started\", \"std\", \"std\", \"stomach\", \"stop\", \"stop\", \"stop\", \"stop\", \"stop\", \"stories\", \"story\", \"story\", \"story\", \"strains\", \"streets\", \"stress\", \"students\", \"students\", \"study\", \"study\", \"successful\", \"sun\", \"supportcancer\", \"sure\", \"symptoms\", \"take\", \"take\", \"take\", \"take\", \"teapartycat\", \"teenage\", \"teens\", \"television\", \"tell\", \"ten\", \"terminal\", \"test\", \"test\", \"test\", \"tested\", \"tests\", \"tests\", \"texting\", \"thedailyedge\", \"thing\", \"thing\", \"things\", \"thscca\", \"tickets\", \"time\", \"time\", \"time\", \"time\", \"time\", \"tn\", \"today\", \"today\", \"today\", \"today\", \"today\", \"torontostar\", \"tots\", \"tourism\", \"transmitted\", \"transmitted\", \"triage\", \"triggering\", \"trike\", \"trump\", \"trying\", \"turned\", \"twice\", \"tx\", \"types\", \"uissnmkgl\", \"union\", \"upon\", \"vacc\", \"vaccin\", \"vaccinated\", \"vaccinated\", \"vaccinated\", \"vaccination\", \"vaccination\", \"vaccination\", \"vaccination\", \"vaccination\", \"vaccination\", \"vaccine\", \"vaccine\", \"vaccine\", \"vaccine\", \"vaccines\", \"vaccines\", \"vaccineswork\", \"vancouver\", \"vax\", \"ventana\", \"via\", \"via\", \"via\", \"via\", \"via\", \"violence\", \"virus\", \"virus\", \"virus\", \"virus\", \"visiting\", \"vv\", \"wa\", \"want\", \"want\", \"wants\", \"wants\", \"warning\", \"warns\", \"warts\", \"wave\", \"way\", \"way\", \"way\", \"weed\", \"week\", \"week\", \"weekend\", \"well\", \"well\", \"well\", \"well\", \"well\", \"went\", \"went\", \"west\", \"woman\", \"woman\", \"woman\", \"woman\", \"women\", \"women\", \"women\", \"women\", \"women\", \"women\", \"worries\", \"would\", \"would\", \"would\", \"would\", \"xe\", \"yeah\", \"yeah\", \"year\", \"year\", \"year\", \"year\", \"year\", \"year\", \"year\", \"young\", \"young\", \"young\", \"young\", \"young\", \"yu\", \"yungmels\", \"yup\"], \"Freq\": [1.0, 0.975609756097561, 1.0, 1.0, 1.0, 0.9803921568627451, 0.9836065573770492, 0.9782608695652174, 1.0, 0.9821428571428571, 1.0, 0.3224043715846995, 0.6721311475409836, 1.0, 0.9696969696969697, 0.9090909090909091, 1.0, 0.875, 1.0, 0.9166666666666666, 0.9696969696969697, 0.02586206896551724, 0.04310344827586207, 0.6120689655172413, 0.12931034482758622, 0.1810344827586207, 0.9791666666666666, 0.9615384615384616, 0.20175438596491227, 0.7368421052631579, 0.06140350877192982, 0.29098360655737704, 0.045081967213114756, 0.009221311475409836, 0.06659836065573771, 0.05327868852459016, 0.09016393442622951, 0.0778688524590164, 0.24795081967213115, 0.10655737704918032, 0.012295081967213115, 0.9736842105263158, 0.8333333333333334, 0.1111111111111111, 0.8703703703703703, 0.8, 1.0, 0.975609756097561, 0.975, 0.9090909090909091, 0.8571428571428571, 0.9972527472527473, 0.9545454545454546, 1.0, 0.9864864864864865, 1.0, 0.8333333333333334, 0.9705882352941176, 0.9841269841269841, 0.9545454545454546, 1.0, 1.0, 1.0, 1.0, 0.8, 0.9864864864864865, 0.9, 0.8888888888888888, 1.0, 0.8571428571428571, 0.08595988538681948, 0.9111747851002865, 0.5209125475285171, 0.4752851711026616, 1.0, 0.875, 0.8, 1.0, 0.8419715447154471, 0.0741869918699187, 0.0006775067750677507, 0.08282520325203252, 0.00016937669376693767, 0.18126888217522658, 0.56797583081571, 0.08157099697885196, 0.17220543806646527, 1.0, 0.08737864077669903, 0.14563106796116504, 0.14563106796116504, 0.6213592233009708, 0.9230769230769231, 0.21658986175115208, 0.2764976958525346, 0.004608294930875576, 0.47465437788018433, 0.02304147465437788, 0.9927536231884058, 0.8714285714285714, 0.12142857142857143, 0.9838709677419355, 0.9092548076923077, 0.0907451923076923, 1.0, 1.0, 0.9285714285714286, 0.8571428571428571, 0.2714285714285714, 0.21428571428571427, 0.5142857142857142, 0.8813559322033898, 0.11864406779661017, 0.8888888888888888, 0.9666666666666667, 0.8, 0.8, 0.2, 0.9818181818181818, 0.08571428571428572, 0.9142857142857143, 1.0, 0.325366514722188, 0.264260194653197, 0.20684982136257238, 0.1684119748675619, 0.00036959467783663914, 0.03474189971664408, 1.0, 1.0, 1.0, 0.16666666666666666, 0.8181818181818182, 0.9846153846153847, 0.5384615384615384, 0.008547008547008548, 0.452991452991453, 1.0, 1.0, 0.9117647058823529, 0.058823529411764705, 1.0, 1.0, 0.9782608695652174, 0.9880952380952381, 1.0, 1.0, 1.0, 0.9836065573770492, 1.0, 0.95, 1.0, 1.0, 0.9824561403508771, 1.0, 0.9565217391304348, 0.6222222222222222, 0.18888888888888888, 0.18888888888888888, 0.9919354838709677, 0.21176470588235294, 0.7764705882352941, 1.0, 1.0, 1.0, 0.8, 0.9375, 1.0, 0.9846153846153847, 0.9411764705882353, 0.058823529411764705, 0.16326530612244897, 0.8367346938775511, 0.7916666666666666, 0.19791666666666666, 0.98, 0.9090909090909091, 1.0, 0.8888888888888888, 0.07333333333333333, 0.10666666666666667, 0.34, 0.08666666666666667, 0.3933333333333333, 1.0, 1.0, 1.0, 0.9885057471264368, 0.013574660633484163, 0.08597285067873303, 0.8959276018099548, 0.9861111111111112, 0.9615384615384616, 0.9767441860465116, 0.9818181818181818, 1.0, 0.9857142857142858, 0.7380952380952381, 0.25, 0.8111888111888111, 0.1888111888111888, 1.0, 0.9565217391304348, 0.98, 0.9583333333333334, 0.03125, 0.9928057553956835, 0.967741935483871, 0.9767441860465116, 1.0, 0.9807692307692307, 0.32978723404255317, 0.1276595744680851, 0.5319148936170213, 0.39215686274509803, 0.14705882352941177, 0.3480392156862745, 0.10784313725490197, 1.0, 1.0, 1.0, 0.9736842105263158, 1.0, 1.0, 1.0, 1.0, 0.9850746268656716, 1.0, 0.9565217391304348, 0.991304347826087, 1.0, 1.0, 1.0, 0.9894736842105263, 0.9166666666666666, 0.9705882352941176, 0.0196078431372549, 1.0, 0.27692307692307694, 0.15384615384615385, 0.023076923076923078, 0.46923076923076923, 0.07692307692307693, 1.0, 1.0, 0.9705882352941176, 0.9090909090909091, 0.9722222222222222, 0.9830508474576272, 0.9166666666666666, 0.9705882352941176, 0.9411764705882353, 0.34977578475336324, 0.5575485799701047, 0.09192825112107623, 0.9761904761904762, 0.9942528735632183, 1.0, 0.07833163784333673, 0.25737538148524924, 0.5096642929806714, 0.11190233977619532, 0.04069175991861648, 0.3003533568904594, 0.0706713780918728, 0.3462897526501767, 0.2756183745583039, 0.007067137809187279, 0.9767441860465116, 0.4105960264900662, 0.543046357615894, 0.039735099337748346, 0.25961538461538464, 0.6868131868131868, 0.050824175824175824, 0.0013736263736263737, 0.9791666666666666, 1.0, 0.8333333333333334, 0.052132701421800945, 0.41232227488151657, 0.35071090047393366, 0.18009478672985782, 1.0, 0.5619047619047619, 0.4380952380952381, 0.28169014084507044, 0.09859154929577464, 0.43661971830985913, 0.176056338028169, 0.9473684210526315, 0.9545454545454546, 0.10069444444444445, 0.8368055555555556, 0.059027777777777776, 1.0, 1.0, 0.9736842105263158, 1.0, 0.9969879518072289, 1.0, 0.9714285714285714, 0.9722222222222222, 1.0, 1.0, 1.0, 0.9850746268656716, 1.0, 0.8, 0.8333333333333334, 0.16666666666666666, 1.0, 0.2839506172839506, 0.2716049382716049, 0.328042328042328, 0.005291005291005291, 0.10934744268077601, 0.15384615384615385, 0.8461538461538461, 0.14545454545454545, 0.8363636363636363, 0.9090909090909091, 0.09090909090909091, 0.8556701030927835, 0.140893470790378, 0.7314814814814815, 0.037037037037037035, 0.037037037037037035, 0.19444444444444445, 0.9833333333333333, 0.9565217391304348, 1.0, 0.11274509803921569, 0.22058823529411764, 0.3480392156862745, 0.3137254901960784, 0.004901960784313725, 1.0, 0.3729141835518474, 0.2659415971394517, 0.054529201430274135, 0.06883194278903457, 0.18250893921334924, 0.004916567342073897, 0.025476758045292015, 0.024880810488676998, 0.9, 0.9836065573770492, 0.3377356225237123, 0.2630567895305559, 0.21118981870572698, 0.15283947652779445, 0.0003601872973946452, 0.034818105414815705, 0.3933649289099526, 0.6066350710900474, 0.01020408163265306, 0.9846938775510204, 1.0, 0.8571428571428571, 0.14285714285714285, 1.0, 1.0, 1.0, 0.9807692307692307, 0.9333333333333333, 1.0, 0.9859154929577465, 0.8333333333333334, 0.8, 0.8446601941747572, 0.15048543689320387, 0.9223300970873787, 0.06796116504854369, 1.0, 0.9722222222222222, 0.9375, 0.875, 1.0, 1.0, 1.0, 1.0, 1.0, 0.9565217391304348, 0.8571428571428571, 0.9878048780487805, 0.9811320754716981, 1.0, 0.9615384615384616, 1.0, 1.0, 0.9900990099009901, 0.2222222222222222, 0.7777777777777778, 0.8333333333333334, 0.8058252427184466, 0.05825242718446602, 0.1262135922330097, 0.4075, 0.05, 0.2125, 0.0425, 0.1675, 0.1225, 0.9666666666666667, 0.84, 0.12, 0.8, 1.0, 1.0, 0.18253968253968253, 0.8095238095238095, 0.95, 1.0, 1.0, 1.0, 0.875, 0.9923076923076923, 0.3387096774193548, 0.03225806451612903, 0.6209677419354839, 0.9590163934426229, 0.040983606557377046, 0.9583333333333334, 0.2012987012987013, 0.7922077922077922, 0.9761904761904762, 0.6490683229813664, 0.1956521739130435, 0.021739130434782608, 0.13043478260869565, 0.14184397163120568, 0.12056737588652482, 0.6595744680851063, 0.07092198581560284, 1.0, 0.9166666666666666, 0.610738255033557, 0.38926174496644295, 1.0, 0.19672131147540983, 0.6229508196721312, 0.1721311475409836, 1.0, 0.8524590163934426, 0.13934426229508196, 1.0, 1.0, 0.98, 1.0, 1.0, 0.9886363636363636, 1.0, 0.3, 0.6916666666666667, 1.0, 0.9714285714285714, 0.9411764705882353, 0.9821428571428571, 1.0, 1.0, 1.0, 0.22758620689655173, 0.2206896551724138, 0.15862068965517243, 0.12413793103448276, 0.2689655172413793, 0.918918918918919, 0.05405405405405406, 0.22344322344322345, 0.6923076923076923, 0.08058608058608059, 0.24427480916030533, 0.6870229007633588, 0.061068702290076333, 1.0, 0.96875, 0.6013745704467354, 0.39862542955326463, 0.4755244755244755, 0.5174825174825175, 0.9285714285714286, 0.25842696629213485, 0.056179775280898875, 0.5056179775280899, 0.16853932584269662, 0.9090909090909091, 1.0, 0.9090909090909091, 1.0, 0.17894736842105263, 0.6947368421052632, 0.11578947368421053, 0.9935897435897436, 0.29457364341085274, 0.2248062015503876, 0.4806201550387597, 0.9333333333333333, 0.9935897435897436, 0.9777777777777777, 0.9705882352941176, 0.9791666666666666, 1.0, 0.8571428571428571, 1.0, 0.9696969696969697, 1.0, 0.8, 1.0, 0.28169014084507044, 0.11267605633802817, 0.1267605633802817, 0.4753521126760563, 0.9523809523809523, 0.8571428571428571, 0.12030075187969924, 0.015037593984962405, 0.2647058823529412, 0.5483193277310925, 0.18487394957983194, 0.0021008403361344537, 0.13595166163141995, 0.3293051359516616, 0.48338368580060426, 0.0513595166163142, 0.16666666666666666, 0.8181818181818182, 1.0, 1.0, 0.9629629629629629, 0.96, 1.0, 0.9, 0.875, 1.0, 1.0, 0.9722222222222222, 1.0, 0.3835616438356164, 0.3013698630136986, 0.0273972602739726, 0.2876712328767123, 1.0, 0.22346368715083798, 0.0670391061452514, 0.10335195530726257, 0.1005586592178771, 0.329608938547486, 0.11731843575418995, 0.036312849162011177, 0.025139664804469275, 1.0, 0.9411764705882353, 1.0, 0.995260663507109, 1.0, 1.0, 0.875, 0.125, 0.997677659080353, 0.0018578727357176034, 0.9523809523809523, 0.9929577464788732, 0.9905660377358491, 0.4583333333333333, 0.20238095238095238, 0.3392857142857143, 0.9880952380952381, 0.9333333333333333, 1.0, 0.8571428571428571, 0.0718562874251497, 0.10778443113772455, 0.5568862275449101, 0.25748502994011974, 0.9166666666666666, 0.95, 0.8928571428571429, 0.10714285714285714, 1.0, 0.9908256880733946, 0.18181818181818182, 0.7272727272727273, 0.3333333333333333, 0.06666666666666667, 0.5964912280701754, 0.975, 1.0, 0.9722222222222222, 1.0, 1.0, 0.9285714285714286, 0.967741935483871, 0.967741935483871, 1.0, 0.8169014084507042, 0.16619718309859155, 0.014084507042253521, 0.9767441860465116, 0.7090909090909091, 0.21818181818181817, 0.06909090909090909, 0.972972972972973, 1.0, 0.9166666666666666, 1.0, 0.9871794871794872, 1.0, 0.8, 0.8521739130434782, 0.1391304347826087, 0.875, 1.0, 1.0, 0.8333333333333334, 0.9803921568627451, 1.0, 0.8333333333333334, 1.0, 1.0, 0.991869918699187, 0.9836065573770492, 0.40512820512820513, 0.2, 0.39487179487179486, 0.9655172413793104, 0.975609756097561, 0.16666666666666666, 0.8333333333333334, 0.9642857142857143, 0.8333333333333334, 1.0, 0.975609756097561, 1.0, 0.8333333333333334, 1.0, 1.0, 1.0, 0.9166666666666666, 0.8, 0.9791666666666666, 1.0, 1.0, 1.0, 0.989010989010989, 0.2831168831168831, 0.7168831168831169, 1.0, 0.2911800241643174, 0.11900926298832058, 0.13229963753523963, 0.11518324607329843, 0.1333064840918244, 0.05537656061216271, 0.07229158276278695, 0.06343133306484092, 0.009061619009262988, 0.008860249697946033, 0.9814814814814815, 1.0, 0.8333333333333334, 0.8493150684931506, 0.1506849315068493, 1.0, 1.0, 1.0, 1.0, 0.8383838383838383, 0.15151515151515152, 1.0, 0.99812382739212, 0.3442622950819672, 0.6475409836065574, 1.0, 0.32727272727272727, 0.045454545454545456, 0.07272727272727272, 0.5454545454545454, 0.9375, 1.0, 0.96, 0.8904109589041096, 0.0958904109589041, 0.7777777777777778, 0.2222222222222222, 0.6901408450704225, 0.19154929577464788, 0.11549295774647887, 0.7350427350427351, 0.2564102564102564, 1.0, 1.0, 0.9285714285714286, 0.8888888888888888, 0.9973045822102425, 0.1610738255033557, 0.8322147651006712, 0.95, 0.9927536231884058, 1.0, 0.3492063492063492, 0.6507936507936508, 1.0, 1.0, 0.9942675159235669, 0.005095541401273885, 0.9852941176470589, 1.0, 0.9592198581560284, 0.03900709219858156, 0.9846153846153847, 1.0, 0.9772727272727273, 0.9375, 0.8888888888888888, 0.1, 1.0, 0.9183673469387755, 0.08163265306122448, 0.96, 0.14049586776859505, 0.8512396694214877, 0.9166666666666666, 0.10526315789473684, 0.039473684210526314, 0.5, 0.21052631578947367, 0.14473684210526316, 0.98, 0.40869565217391307, 0.48695652173913045, 0.09565217391304348, 0.984375, 1.0, 1.0, 0.35294117647058826, 0.6470588235294118, 0.8987068965517241, 0.09913793103448276, 0.8571428571428571, 0.9411764705882353, 1.0, 0.9830508474576272, 0.9895833333333334, 0.06766917293233082, 0.18796992481203006, 0.48872180451127817, 0.24812030075187969, 1.0, 0.98, 0.9895833333333334, 1.0, 0.9833333333333333, 1.0, 0.9375, 0.5918803418803419, 0.019230769230769232, 0.38675213675213677, 0.9807692307692307, 0.3622448979591837, 0.6326530612244898, 1.0, 1.0, 0.7435897435897436, 0.24358974358974358, 0.9782608695652174, 1.0, 1.0, 0.09826589595375723, 0.44508670520231214, 0.08670520231213873, 0.28901734104046245, 0.07514450867052024, 0.9, 0.21835443037974683, 0.12341772151898735, 0.04113924050632911, 0.4588607594936709, 0.15822784810126583, 0.9714285714285714, 1.0, 1.0, 0.014705882352941176, 0.9705882352941176, 1.0, 1.0, 0.9166666666666666, 1.0, 0.9583333333333334, 1.0, 1.0, 0.975, 0.9916666666666667, 1.0, 1.0, 0.8571428571428571, 0.9333333333333333, 0.9861111111111112, 0.8053097345132744, 0.1415929203539823, 0.05309734513274336, 0.0035211267605633804, 0.3538732394366197, 0.5017605633802817, 0.040492957746478875, 0.03169014084507042, 0.06866197183098592, 0.4007308160779537, 0.47462444173771823, 0.12302070645554203, 0.001218026796589525, 0.23595505617977527, 0.7617977528089888, 0.9090909090909091, 1.0, 0.9919354838709677, 1.0, 0.09003831417624521, 0.289272030651341, 0.24329501915708812, 0.2777777777777778, 0.09961685823754789, 1.0, 0.09716599190283401, 0.29554655870445345, 0.004048582995951417, 0.5991902834008097, 1.0, 0.8571428571428571, 1.0, 0.3697478991596639, 0.6218487394957983, 0.23404255319148937, 0.7659574468085106, 1.0, 0.9743589743589743, 0.995575221238938, 1.0, 0.25675675675675674, 0.6216216216216216, 0.10810810810810811, 0.9, 0.8363636363636363, 0.15757575757575756, 0.9, 0.048, 0.272, 0.16, 0.104, 0.408, 0.07407407407407407, 0.9135802469135802, 0.8333333333333334, 0.6010362694300518, 0.06735751295336788, 0.08808290155440414, 0.24352331606217617, 0.4870242214532872, 0.1980968858131488, 0.0847750865051903, 0.08217993079584775, 0.14619377162629757, 0.0008650519031141869, 1.0, 0.12578616352201258, 0.5220125786163522, 0.1761006289308176, 0.18238993710691823, 1.0, 0.7843137254901961, 0.19607843137254902, 0.41923076923076924, 0.03461538461538462, 0.11153846153846154, 0.14615384615384616, 0.07692307692307693, 0.08076923076923077, 0.12692307692307692, 0.26013513513513514, 0.3581081081081081, 0.19594594594594594, 0.016891891891891893, 0.16891891891891891, 1.0, 1.0, 1.0]}, \"tinfo\": {\"Freq\": [4992.0, 5904.0, 2153.0, 6712.0, 1570.0, 8329.0, 8117.0, 2463.0, 1338.0, 564.0, 983.0, 371.0, 728.0, 1156.0, 4966.0, 976.0, 533.0, 332.0, 445.0, 221.0, 464.0, 468.0, 349.0, 226.0, 263.0, 288.0, 196.0, 364.0, 568.0, 322.0, 4.705150408868953, 4.705150408868953, 4.705094489802313, 17.677946573633456, 14.678690935543955, 4.666356018354525, 7.657315661107639, 4.649305481817616, 80.62368285780516, 9.623480373088874, 7.622579143261122, 5.622988827870476, 4.616620734885567, 14.585140667416361, 35.576666340902314, 10.586091431847388, 4.603445953152162, 4.603183176484443, 5.592539441702632, 108.56257472629774, 5.567682978102696, 10.542932481922275, 24.927931086999237, 13.538386352959975, 9.542736017289936, 10.523893203076964, 6.534591779316862, 4.53648972292207, 4.533063086881757, 6.515400189956797, 7.509239482810708, 12.484076762647053, 10.491423344125883, 15.471570964613743, 67.38393269881514, 4538.502073002849, 4971.093289082688, 532.1525927569342, 55.347521857313296, 75.99667806691359, 290.17201468794804, 116.57416718818162, 363.006744231261, 31.389315631504733, 94.18626447841372, 2813.2825127918977, 2641.2390329078016, 249.22411183972093, 95.52245555105908, 115.78137491384298, 563.033816484329, 1446.4958372854123, 194.7305430871323, 122.06715220202166, 122.42112069047732, 276.78918284678457, 100.10733751272002, 95.11440838633516, 82.78843456612077, 136.85866852975715, 154.8717790919487, 283.52181061223513, 138.2501659033077, 162.79675572492317, 161.24948364012496, 115.73161389247745, 109.24865947294812, 125.76195526027898, 108.59328716232471, 62.675702592434256, 15.667191326997434, 20.62794094756973, 4.644879443158865, 5.629210816424107, 4.6304038039489095, 6.607137968683768, 6.584458846706667, 44.55613074785998, 8.573420173139228, 6.575528405715147, 5.573693838815378, 4.579305197834396, 8.56101076436062, 7.557496937746056, 17.53801991112827, 6.5505540429194165, 26.523865354249175, 4.5572205641358225, 5.5487234340672895, 4.5539936479715495, 3.877441952676986, 21.497202719736105, 5.523546129265108, 4.5240810289680145, 4.518220854922648, 9.491342963963133, 10.484749455582282, 13.475480505007226, 19.46649483348125, 32.437003516602616, 21.710121866992885, 40.41181187673523, 14.461916941896373, 95.27454901783028, 32.3814845480502, 34.20755314394007, 417.3035332483289, 61.26091272976529, 92.3858374887796, 42.29490446071943, 2502.600917382207, 275.61049758175255, 986.9699029513107, 209.89793608755735, 129.0163677023811, 2144.627172139137, 2190.716889595228, 245.48717763384448, 173.8017550927261, 83.84222243660807, 70.14507431228553, 188.88121805716753, 261.31041362030345, 174.53334142676277, 187.63738387446097, 94.99164576316258, 90.80345142420255, 78.61841792063638, 99.32367861944333, 590.9609780851847, 200.75293485043292, 229.4199630321271, 437.5775352313386, 189.44798864830472, 150.51009904326912, 105.95583318723791, 154.0330105128539, 105.2583230324552, 108.58997535632543, 84.84110386237167, 4.689300530371525, 10.677186577676059, 13.619343759956493, 6.613248800658797, 5.612364689625457, 17.58676874798994, 7.597960654267445, 6.594765986901692, 7.575356012027566, 10.551781761043673, 12.533305708597824, 10.523862583667626, 9.51060452446436, 28.48745739532173, 10.501020705557725, 19.48915110050269, 45.479314631680886, 22.47462211575102, 5.487224914397393, 10.464491432883689, 6.837866706143457, 6.470346685070853, 51.424360340614285, 5.460481255935066, 5.460352871551351, 4.469909161559604, 4.460357271331332, 6.442816141438765, 4.447619885467962, 21.372048329173616, 137.25302100541762, 22.339809351065195, 51.92710666446314, 318.08336887949076, 138.18309514880494, 37.28452240810827, 339.03243466320595, 77.1953032246422, 61.68352601809809, 500.11089428256275, 1169.140484348501, 114.06241436870431, 82.73119523410385, 1785.033959896269, 83.33118851852639, 1758.6734487682775, 1678.8537409816195, 285.2347069482025, 98.0750408905023, 467.66636210777085, 91.07855757865158, 89.62579016382455, 52.18296716526364, 64.8021830784821, 656.6291685616322, 160.05863040573718, 186.49443757355525, 64.08741850770888, 62.1800351988328, 126.5307522454271, 68.3274300257, 87.78970584154149, 57.54800234806654, 77.18722812043404, 6.6591124075008565, 21.646255805291794, 21.646254268234767, 22.645995106602115, 22.645995106602115, 24.621805361305057, 9.625386919680217, 9.623809213710734, 4.632727105556212, 4.6327222885896395, 6.613043036918892, 11.601633529618342, 6.606736797153148, 22.5903131322649, 5.608374138571887, 5.583682593498675, 4.579736959743219, 31.532079741897103, 4.552623855595561, 13.524728626819543, 4.549223188942278, 40.5075223443828, 5.537042192244113, 5.534438730296873, 331.48754279182043, 4.524834474743372, 19.488239473819434, 7.503767393511213, 5.509656777122639, 5.499046287477584, 42.43737963082323, 13.457891469955223, 49.357428420432086, 127.76014905034688, 14.441636312511749, 30.333751591963836, 39.26980638683003, 746.2282102907694, 42.22527724457619, 36.24988209832602, 69.07727926955808, 1367.1405891731179, 122.69286191412561, 1273.193805765198, 35.22124230760367, 46.1301407681985, 33.23531911632922, 50.082829283656444, 572.4721917533134, 55.65643101897507, 44.63379788956134, 302.9024958367499, 145.30198682812394, 73.90639536556516, 365.50422924760903, 80.75077733697951, 62.27551516355882, 70.81032936793359, 56.02073922678481, 65.1165834310974, 44.48128067633851, 4.708270472508046, 5.705041761259007, 5.7049244640526355, 6.70271458675559, 19.680947252482962, 7.682202409765754, 7.682124130017663, 4.6785331724938874, 4.658197665892769, 4.650836018798749, 5.642306906563878, 4.620329322883441, 41.58397531567281, 7.105735080734464, 16.551582613802864, 5.563438985168125, 4.568758279831456, 6.542315664778112, 8.500337650246667, 4.509470087120984, 20.436437236312525, 22.430786068952916, 19.432738561601838, 8.451561381255468, 4.468866439968738, 5.454083406468749, 11.426917205153389, 10.42061163089465, 10.42061163089465, 10.42061163089465, 21.384292276227086, 541.162722703023, 2147.8009896324224, 1561.0363559906193, 90.02018350924709, 103.26480817878705, 31.42401258344151, 51.231433931244936, 124.06898080574206, 154.93866882932647, 114.37634032862485, 209.175539368521, 58.13479260163705, 47.18836267507228, 58.213186905537775, 103.99433928844567, 134.93077790174488, 662.2360827084082, 181.382801214343, 63.8917162660564, 253.06068504786055, 97.50309457493348, 40.20404733978593, 61.827653611798716, 65.36420362615814, 86.9593578141698, 37.73319875652745, 84.53658066694136, 97.97861864994834, 67.63583146324986, 60.87596431858885, 58.53273373398679, 52.074316892950385, 4.748396310009345, 9.727689639169173, 6.65129379617969, 4.6511448880911095, 5.585535312549061, 21.560109665284504, 4.553117853270516, 31.691980829394392, 5.539789820536622, 35.50623231429162, 4.542905151120183, 10.51816753791487, 4.5314029679059775, 4.529865045466663, 4.529865045466663, 8.505831383575202, 11.49527313132282, 15.47801478206726, 24.751789836680928, 16.469412475930508, 7.475441970852809, 9.462784718396739, 14.452795658756848, 5.4801144333822105, 13.431971951385176, 5.458787215065691, 60.4068729934061, 4.464977553660025, 4.461685478768562, 4.455019864560567, 64.38633608946373, 33.378907719653995, 26.378599737350243, 25.3631844340588, 44.32117494786993, 87.268955411586, 370.04925570647424, 27.33555207185971, 20.365338461936087, 32.30066512484688, 58.21142654579499, 240.7475484400625, 21.923127829277757, 35.27202494279438, 83.07779847517762, 33.272137937937615, 501.34564725595476, 121.76440118498886, 101.78789718629498, 123.29802813973677, 123.8474653714013, 73.06989339648982, 170.46638432002544, 65.86729615991163, 81.99929274341739, 144.69383780642227, 93.25814072721778, 452.64036295836917, 488.8276810537402, 82.50308889991268, 77.26784954809395, 462.0102429807032, 118.00995636406533, 274.70194056726905, 78.38676788933525, 123.2021186789489, 88.18037614686881, 94.62442627178957, 71.46180202031461, 4.734677104860441, 5.663939705418898, 4.664674378043595, 4.657047839938152, 4.646276643342111, 5.588181476765089, 4.578303260922354, 5.566840245763304, 7.553458312964018, 6.536179929910827, 10.519995561144645, 5.524728784767277, 6.506214751917201, 7.500587650638981, 23.469595420541353, 13.476831846263481, 4.505422540385971, 4.505422540385971, 4.505422540385971, 5.905620643581975, 7.466738668576553, 6.469949557313574, 9.454976606218237, 5.464875033672057, 24.422871243053944, 29.41781254397659, 6.526441998473603, 7.437920019813258, 16.404421061081276, 6.431555200327262, 16.40020056198525, 37.38024402382445, 45.36439681988352, 24.3842502358547, 73.32875387509303, 23.38229507290775, 137.26265057173055, 34.34943855629268, 50.306131130760576, 119.21950146058198, 193.36984887369942, 35.32056092633764, 86.21416602006065, 141.1261746861103, 172.99614601608138, 224.92802603235913, 49.230788322628634, 34.29276336620444, 35.2814546347695, 80.2904306439825, 40.22615579962217, 147.90662478837856, 1224.5533164240508, 66.38130201260941, 41.173344965947884, 71.29765350882877, 102.78499910868504, 115.71020124397612, 93.30960801832133, 85.55057721774585, 358.5507665408724, 110.43034168153017, 52.822213757024386, 45.94305004583256, 75.73187072854559, 66.98877266181293, 56.72920375924225, 45.372339424581256, 44.947137008446454, 4.669048050499494, 5.665091563512083, 5.665044064526202, 6.662122532430669, 7.659861703455187, 8.658100026170258, 13.652889359388126, 15.622331534168863, 10.6182585772389, 5.623133248523151, 6.618842818373485, 5.603635742242355, 6.596316219201781, 4.665782639641263, 19.574223893960173, 8.256121931010112, 7.575056058539127, 5.573763859389902, 7.565389441158713, 10.534679871074372, 4.529102997076495, 4.520296430659118, 35.47295353275257, 7.463811385834459, 30.433634634494624, 6.464301438769699, 15.437827386483274, 9.441468964162846, 7.4450711844588255, 105.396040276394, 108.38671794219209, 49.357581870427495, 45.35071611875759, 33.359994014422604, 24.359018279857633, 49.2557628578096, 83.15604190290973, 34.297885440993255, 79.09448329212283, 62.106754212159075, 55.1124360484148, 125.48301900693956, 30.260318063842963, 81.57405024651909, 241.69073289976367, 35.97387344812392, 65.85816886352691, 39.10887302804003, 35.698827170550224, 76.220186730639, 74.45505352285562, 315.03615774010706, 169.4322972719835, 70.51015696034686, 58.61413059808892, 49.56706459984311, 40.682972401465136, 61.5237159342195, 51.23948245077258, 46.64425626342181, 48.70692414160628, 6.678062078091604, 12.670318383141979, 13.669660550973676, 19.66696225908511, 25.638842193513515, 7.642116407910216, 5.6463999260538404, 27.62572650042101, 17.626201401142577, 4.626310177247888, 8.613332363337884, 12.60573612313515, 5.587713495993521, 14.55903323241385, 19.547003840311636, 6.552171954812458, 4.540767828026395, 6.5157938307698675, 7.496156825503452, 8.46198091359154, 4.486472088579761, 11.452588784756067, 18.439740261111304, 9.444813980651402, 4.471404415588537, 15.418706738021072, 47.299121364573, 14.40452350908364, 8.418572680371522, 21.386758457855702, 56.31385904728962, 38.23270885207931, 22.300819655131747, 43.20890958823603, 64.0859360333793, 54.11669738534236, 54.087881997525024, 40.14806796746719, 66.47080911946496, 59.972694011402304, 51.0283488170591, 49.03113723704981, 58.95495605863532, 77.26324146430376, 37.126787540359615, 76.71268990476318, 63.72812040926061, 289.70765923438756, 281.98778068244724, 104.48325391468566, 56.81779940023174, 171.1594342642644, 52.8488996531178, 50.14977511222072, 52.0530133628552, 50.33429924912694, 45.31640181708579, 4.688754780830607, 5.685226719072051, 6.682587648907108, 20.63857048971099, 25.622915908087446, 5.627612854757688, 18.599263523234182, 6.601750674233123, 62.569440054840356, 7.549139095376518, 12.52405226895048, 6.5304894653545364, 25.464119279060075, 5.493629419375997, 5.486519283079152, 6.470910604146235, 5.47718338637126, 11.449340326087679, 6.454267668242088, 9.437579388875367, 11.422764454957967, 11.422764454957967, 11.422764454957967, 4.452826803909614, 6.432602297062181, 6.4259214708331305, 47.37589194964338, 11.399634860611657, 8.406380141631264, 4.435444427299562, 123.35053899419252, 25.3408131831553, 10.389834735497187, 29.31435785054777, 22.334122840942918, 16.34064604515893, 11.378548469631928, 15.32381498616454, 198.492776048658, 63.07560414735666, 41.10631839372273, 47.07157828973072, 65.95756027144353, 47.24220548921467, 42.06667355566886, 73.64409206107052, 83.38271035390206, 58.90847699483417, 59.83847346013954, 62.127121646878095, 54.17761899165111, 59.8219020160785, 53.74648755578538, 59.72833529950292, 39.96820257556816, 70.55895946970412, 50.01698888192438, 38.96993743390934, 167.40869995050545, 41.637292814077504, 39.03874713560205, 41.82201183361863, 43.600474940714584], \"Term\": [\"cervical\", \"cancer\", \"pap\", \"hpv\", \"smear\", \"http\", \"co\", \"vaccine\", \"gardasil\", \"smears\", \"get\", \"shot\", \"girls\", \"women\", \"rt\", \"amp\", \"screening\", \"gt\", \"vaccines\", \"dr\", \"study\", \"test\", \"boys\", \"warts\", \"breast\", \"got\", \"human\", \"awareness\", \"vaccination\", \"like\", \"cxca\", \"ventana\", \"camps\", \"okoye\", \"orgasms\", \"reprodocs\", \"uissnmkgl\", \"begun\", \"warning\", \"tourism\", \"screw\", \"shiitake\", \"conducting\", \"observe\", \"documentary\", \"cervicalscreen\", \"columbia\", \"ben\", \"ground\", \"signs\", \"smearing\", \"publishes\", \"peter\", \"fast\", \"supportcancer\", \"blamed\", \"haiti\", \"evzoeas\", \"danafarber\", \"limited\", \"pathologists\", \"caught\", \"mil\", \"terminal\", \"smearforsmear\", \"cervical\", \"cancer\", \"screening\", \"africa\", \"dies\", \"prevent\", \"learn\", \"awareness\", \"mediterranean\", \"fight\", \"http\", \"co\", \"help\", \"diagnosed\", \"early\", \"women\", \"rt\", \"prevention\", \"raise\", \"causes\", \"test\", \"jotrust\", \"symptoms\", \"https\", \"breast\", \"month\", \"amp\", \"week\", \"know\", \"health\", \"woman\", \"year\", \"new\", \"risk\", \"ignore\", \"medicines\", \"require\", \"triage\", \"repeat\", \"loc\", \"sk\", \"ab\", \"provides\", \"worries\", \"ra\", \"remove\", \"vancouver\", \"damages\", \"federal\", \"denmark\", \"believes\", \"hits\", \"ahcc\", \"compound\", \"laurieadeleluk\", \"clarify\", \"gop\", \"felt\", \"niam\", \"debbybruck\", \"hpv_review\", \"discoveries\", \"changed\", \"permanent\", \"ages\", \"healthcare\", \"abnormal\", \"vacc\", \"teens\", \"natural\", \"market\", \"study\", \"cdcstd\", \"effective\", \"giant\", \"hpv\", \"risk\", \"vaccine\", \"oral\", \"le\", \"co\", \"http\", \"sex\", \"infection\", \"among\", \"increase\", \"may\", \"new\", \"men\", \"cancers\", \"infections\", \"linked\", \"high\", \"finds\", \"rt\", \"vaccination\", \"women\", \"cancer\", \"girls\", \"via\", \"young\", \"health\", \"vaccines\", \"news\", \"getting\", \"assessed\", \"investigating\", \"danish\", \"ri\", \"union\", \"investigation\", \"closed\", \"glenn\", \"yup\", \"violence\", \"doritmi\", \"scientist\", \"extract\", \"reactions\", \"nvicloedown\", \"damage\", \"adverse\", \"itsmepanda\", \"pushed\", \"fr\", \"severe\", \"botched\", \"european\", \"globeandmail\", \"west\", \"aspiesmom\", \"infants\", \"award\", \"nbc\", \"lack\", \"side\", \"date\", \"children\", \"boys\", \"effects\", \"greatest\", \"vaccines\", \"program\", \"safety\", \"girls\", \"vaccine\", \"fda\", \"school\", \"hpv\", \"kids\", \"http\", \"co\", \"vaccination\", \"protect\", \"gardasil\", \"vaccinated\", \"medical\", \"japan\", \"serious\", \"rt\", \"news\", \"health\", \"comes\", \"due\", \"via\", \"merck\", \"new\", \"linked\", \"get\", \"pa_raven\", \"rhode\", \"island\", \"lawofsexs\", \"gyjbyszv\", \"mandate\", \"mandates\", \"hearus\", \"triggering\", \"television\", \"nobel\", \"wave\", \"jonrappoport\", \"agency\", \"harvardhealth\", \"regulator\", \"sanevaxx\", \"illness\", \"xe\", \"ppact\", \"modified\", \"sb\", \"graders\", \"yu\", \"gt\", \"evil\", \"launches\", \"lalaruefrench\", \"ag\", \"rz\", \"eu\", \"shocking\", \"teenage\", \"https\", \"pathogenposse\", \"prenatal\", \"tx\", \"gardasil\", \"drjengunter\", \"prevents\", \"du\", \"co\", \"de\", \"http\", \"injured\", \"healthy\", \"bc\", \"action\", \"rt\", \"daughter\", \"star\", \"vaccine\", \"via\", \"merck\", \"hpv\", \"january\", \"girl\", \"vaccin\", \"story\", \"amp\", \"old\", \"yungmels\", \"rexhuppke\", \"convulse\", \"lion\", \"myb\", \"gun\", \"floor\", \"cruz\", \"land\", \"teapartycat\", \"rj\", \"separate\", \"sarahksilverman\", \"jr\", \"lose\", \"forced\", \"quietly\", \"priorities\", \"doh\", \"oq\", \"needed\", \"fatherhood\", \"shut\", \"discusses\", \"clap\", \"quit\", \"private\", \"aha\", \"mimki\", \"avatar\", \"awkward\", \"smears\", \"pap\", \"smear\", \"right\", \"std\", \"condoms\", \"tested\", \"tests\", \"much\", \"never\", \"like\", \"sure\", \"always\", \"thing\", \"lol\", \"need\", \"rt\", \"test\", \"care\", \"get\", \"getting\", \"yeah\", \"good\", \"take\", \"go\", \"stop\", \"know\", \"women\", \"sex\", \"first\", \"going\", \"amp\", \"thscca\", \"lolgop\", \"immunizations\", \"proper\", \"hxgwhdyp\", \"major\", \"cervicalca\", \"clinic\", \"visiting\", \"prevalence\", \"ten\", \"cos\", \"bride\", \"festival\", \"tickets\", \"genotypes\", \"film\", \"selfies\", \"hard\", \"funding\", \"protective\", \"weed\", \"move\", \"removed\", \"midnight\", \"kbcchannel\", \"ht\", \"delayed\", \"proposed\", \"handle\", \"someone\", \"mum\", \"nice\", \"amazing\", \"multiple\", \"love\", \"shot\", \"received\", \"paper\", \"almost\", \"friend\", \"got\", \"students\", \"friday\", \"partners\", \"fucking\", \"get\", \"less\", \"last\", \"age\", \"shots\", \"bad\", \"please\", \"mom\", \"girl\", \"today\", \"likely\", \"cervical\", \"cancer\", \"would\", \"time\", \"hpv\", \"one\", \"rt\", \"getting\", \"gardasil\", \"amp\", \"women\", \"every\", \"trump\", \"grateful\", \"discrimination\", \"condyloma\", \"ongoing\", \"loved\", \"miles_wilma\", \"popular\", \"nf\", \"ey\", \"rachel\", \"streets\", \"wa\", \"account\", \"trying\", \"precancerous\", \"caps\", \"texting\", \"natvanlis\", \"iamcervivor\", \"aim\", \"chicken\", \"weekend\", \"balance\", \"series\", \"known\", \"paid\", \"bro\", \"mammogram\", \"jam\", \"sun\", \"approved\", \"things\", \"started\", \"birth\", \"lesions\", \"caused\", \"guy\", \"question\", \"types\", \"human\", \"guys\", \"dose\", \"papillomavirus\", \"genital\", \"warts\", \"long\", \"males\", \"ok\", \"spread\", \"remember\", \"virus\", \"hpv\", \"transmitted\", \"gave\", \"also\", \"cause\", \"men\", \"people\", \"sexually\", \"rt\", \"get\", \"common\", \"way\", \"amp\", \"know\", \"cancers\", \"might\", \"hiv\", \"tots\", \"finneyk\", \"istandwithpp\", \"jeb\", \"standwithpp\", \"injecting\", \"sanders\", \"bernie\", \"ppfa\", \"ideas\", \"handing\", \"sorcha\", \"expired\", \"realdonaldtrump\", \"twice\", \"plannedparenthood\", \"faces\", \"probe\", \"comprehensive\", \"collectiveevol\", \"ajkej\", \"badastronomer\", \"pp\", \"nvic\", \"epidemic\", \"successful\", \"injury\", \"birthday\", \"investigate\", \"parenthood\", \"planned\", \"education\", \"contraception\", \"former\", \"nigeria\", \"diet\", \"control\", \"torontostar\", \"screenings\", \"become\", \"mammograms\", \"breast\", \"predicts\", \"died\", \"amp\", \"child\", \"fact\", \"australia\", \"wants\", \"lives\", \"want\", \"rt\", \"women\", \"hiv\", \"doctor\", \"time\", \"since\", \"health\", \"well\", \"woman\", \"know\", \"omotayo\", \"eurekamag\", \"lola\", \"nanny\", \"ebv\", \"defund\", \"thedailyedge\", \"dt\", \"loses\", \"stress\", \"joegooding\", \"rural\", \"slightly\", \"sharylattkisson\", \"abortions\", \"mandated\", \"abstinence\", \"lawsuits\", \"lb\", \"china\", \"lag\", \"stomach\", \"google\", \"nurses\", \"revealed\", \"spain\", \"review\", \"imagine\", \"bishop\", \"begin\", \"dangerous\", \"warns\", \"highest\", \"south\", \"developer\", \"drug\", \"clean\", \"associated\", \"deadly\", \"rate\", \"im\", \"stories\", \"higher\", \"lead\", \"experts\", \"rates\", \"hiv\", \"http\", \"co\", \"amp\", \"parents\", \"hpv\", \"run\", \"young\", \"via\", \"today\", \"rt\", \"pinkout\", \"iooyc\", \"awkwardquestion\", \"debilitating\", \"affordable\", \"hack\", \"turned\", \"hopkinsmedicine\", \"exams\", \"colposcopy\", \"nc\", \"goal\", \"job\", \"art\", \"recumbent\", \"vv\", \"induced\", \"fucked\", \"nails\", \"tn\", \"alloy\", \"performer\", \"trike\", \"beyond\", \"upon\", \"pelvic\", \"must\", \"responsible\", \"short\", \"bullying\", \"vax\", \"drfriedencdc\", \"vaccineswork\", \"claim\", \"ed\", \"op\", \"lindacngal\", \"delivery\", \"dr\", \"strains\", \"lets\", \"giving\", \"half\", \"ask\", \"prevented\", \"went\", \"low\", \"tell\", \"see\", \"mother\", \"come\", \"cut\", \"next\", \"active\", \"real\", \"dre\", \"even\", \"point\", \"hpv\", \"old\", \"many\", \"like\", \"rt\"], \"Category\": [\"Default\", \"Default\", \"Default\", \"Default\", \"Default\", \"Default\", \"Default\", \"Default\", \"Default\", \"Default\", \"Default\", \"Default\", \"Default\", \"Default\", \"Default\", \"Default\", \"Default\", \"Default\", \"Default\", \"Default\", \"Default\", \"Default\", \"Default\", \"Default\", \"Default\", \"Default\", \"Default\", \"Default\", \"Default\", \"Default\", \"Topic1\", \"Topic1\", \"Topic1\", \"Topic1\", \"Topic1\", \"Topic1\", \"Topic1\", \"Topic1\", \"Topic1\", \"Topic1\", \"Topic1\", \"Topic1\", \"Topic1\", \"Topic1\", \"Topic1\", \"Topic1\", \"Topic1\", \"Topic1\", \"Topic1\", \"Topic1\", \"Topic1\", \"Topic1\", \"Topic1\", \"Topic1\", \"Topic1\", \"Topic1\", \"Topic1\", \"Topic1\", \"Topic1\", \"Topic1\", \"Topic1\", \"Topic1\", \"Topic1\", \"Topic1\", \"Topic1\", \"Topic1\", \"Topic1\", \"Topic1\", \"Topic1\", \"Topic1\", \"Topic1\", \"Topic1\", \"Topic1\", \"Topic1\", \"Topic1\", \"Topic1\", \"Topic1\", \"Topic1\", \"Topic1\", \"Topic1\", \"Topic1\", \"Topic1\", \"Topic1\", \"Topic1\", \"Topic1\", \"Topic1\", \"Topic1\", \"Topic1\", \"Topic1\", \"Topic1\", \"Topic1\", \"Topic1\", \"Topic1\", \"Topic1\", \"Topic1\", \"Topic1\", \"Topic1\", \"Topic1\", \"Topic1\", \"Topic2\", \"Topic2\", \"Topic2\", \"Topic2\", \"Topic2\", \"Topic2\", \"Topic2\", \"Topic2\", \"Topic2\", \"Topic2\", \"Topic2\", \"Topic2\", \"Topic2\", \"Topic2\", \"Topic2\", \"Topic2\", \"Topic2\", \"Topic2\", \"Topic2\", \"Topic2\", \"Topic2\", \"Topic2\", \"Topic2\", \"Topic2\", \"Topic2\", \"Topic2\", \"Topic2\", \"Topic2\", \"Topic2\", \"Topic2\", \"Topic2\", \"Topic2\", \"Topic2\", \"Topic2\", \"Topic2\", \"Topic2\", \"Topic2\", \"Topic2\", \"Topic2\", \"Topic2\", \"Topic2\", \"Topic2\", \"Topic2\", \"Topic2\", \"Topic2\", \"Topic2\", \"Topic2\", \"Topic2\", \"Topic2\", \"Topic2\", \"Topic2\", \"Topic2\", \"Topic2\", \"Topic2\", \"Topic2\", \"Topic2\", \"Topic2\", \"Topic2\", \"Topic2\", \"Topic2\", \"Topic2\", \"Topic2\", \"Topic2\", \"Topic2\", \"Topic2\", \"Topic2\", \"Topic2\", \"Topic2\", \"Topic2\", \"Topic2\", \"Topic2\", \"Topic3\", \"Topic3\", \"Topic3\", \"Topic3\", \"Topic3\", \"Topic3\", \"Topic3\", \"Topic3\", \"Topic3\", \"Topic3\", \"Topic3\", \"Topic3\", \"Topic3\", \"Topic3\", \"Topic3\", \"Topic3\", \"Topic3\", \"Topic3\", \"Topic3\", \"Topic3\", \"Topic3\", \"Topic3\", \"Topic3\", \"Topic3\", \"Topic3\", \"Topic3\", \"Topic3\", \"Topic3\", \"Topic3\", \"Topic3\", \"Topic3\", \"Topic3\", \"Topic3\", \"Topic3\", \"Topic3\", \"Topic3\", \"Topic3\", \"Topic3\", \"Topic3\", \"Topic3\", \"Topic3\", \"Topic3\", \"Topic3\", \"Topic3\", \"Topic3\", \"Topic3\", \"Topic3\", \"Topic3\", \"Topic3\", \"Topic3\", \"Topic3\", \"Topic3\", \"Topic3\", \"Topic3\", \"Topic3\", \"Topic3\", \"Topic3\", \"Topic3\", \"Topic3\", \"Topic3\", \"Topic3\", \"Topic3\", \"Topic3\", \"Topic3\", \"Topic4\", \"Topic4\", \"Topic4\", \"Topic4\", \"Topic4\", \"Topic4\", \"Topic4\", \"Topic4\", \"Topic4\", \"Topic4\", \"Topic4\", \"Topic4\", \"Topic4\", \"Topic4\", \"Topic4\", \"Topic4\", \"Topic4\", \"Topic4\", \"Topic4\", \"Topic4\", \"Topic4\", \"Topic4\", \"Topic4\", \"Topic4\", \"Topic4\", \"Topic4\", \"Topic4\", \"Topic4\", \"Topic4\", \"Topic4\", \"Topic4\", \"Topic4\", \"Topic4\", \"Topic4\", \"Topic4\", \"Topic4\", \"Topic4\", \"Topic4\", \"Topic4\", \"Topic4\", \"Topic4\", \"Topic4\", \"Topic4\", \"Topic4\", \"Topic4\", \"Topic4\", \"Topic4\", \"Topic4\", \"Topic4\", \"Topic4\", \"Topic4\", \"Topic4\", \"Topic4\", \"Topic4\", \"Topic4\", \"Topic4\", \"Topic4\", \"Topic4\", \"Topic4\", \"Topic4\", \"Topic4\", \"Topic5\", \"Topic5\", \"Topic5\", \"Topic5\", \"Topic5\", \"Topic5\", \"Topic5\", \"Topic5\", \"Topic5\", \"Topic5\", \"Topic5\", \"Topic5\", \"Topic5\", \"Topic5\", \"Topic5\", \"Topic5\", \"Topic5\", \"Topic5\", \"Topic5\", \"Topic5\", \"Topic5\", \"Topic5\", \"Topic5\", \"Topic5\", \"Topic5\", \"Topic5\", \"Topic5\", \"Topic5\", \"Topic5\", \"Topic5\", \"Topic5\", \"Topic5\", \"Topic5\", \"Topic5\", \"Topic5\", \"Topic5\", \"Topic5\", \"Topic5\", \"Topic5\", \"Topic5\", \"Topic5\", \"Topic5\", \"Topic5\", \"Topic5\", \"Topic5\", \"Topic5\", \"Topic5\", \"Topic5\", \"Topic5\", \"Topic5\", \"Topic5\", \"Topic5\", \"Topic5\", \"Topic5\", \"Topic5\", \"Topic5\", \"Topic5\", \"Topic5\", \"Topic5\", \"Topic5\", \"Topic5\", \"Topic5\", \"Topic5\", \"Topic6\", \"Topic6\", \"Topic6\", \"Topic6\", \"Topic6\", \"Topic6\", \"Topic6\", \"Topic6\", \"Topic6\", \"Topic6\", \"Topic6\", \"Topic6\", \"Topic6\", \"Topic6\", \"Topic6\", \"Topic6\", \"Topic6\", \"Topic6\", \"Topic6\", \"Topic6\", \"Topic6\", \"Topic6\", \"Topic6\", \"Topic6\", \"Topic6\", \"Topic6\", \"Topic6\", \"Topic6\", \"Topic6\", \"Topic6\", \"Topic6\", \"Topic6\", \"Topic6\", \"Topic6\", \"Topic6\", \"Topic6\", \"Topic6\", \"Topic6\", \"Topic6\", \"Topic6\", \"Topic6\", \"Topic6\", \"Topic6\", \"Topic6\", \"Topic6\", \"Topic6\", \"Topic6\", \"Topic6\", \"Topic6\", \"Topic6\", \"Topic6\", \"Topic6\", \"Topic6\", \"Topic6\", \"Topic6\", \"Topic6\", \"Topic6\", \"Topic6\", \"Topic6\", \"Topic6\", \"Topic6\", \"Topic6\", \"Topic6\", \"Topic6\", \"Topic6\", \"Topic6\", \"Topic6\", \"Topic6\", \"Topic6\", \"Topic7\", \"Topic7\", \"Topic7\", \"Topic7\", \"Topic7\", \"Topic7\", \"Topic7\", \"Topic7\", \"Topic7\", \"Topic7\", \"Topic7\", \"Topic7\", \"Topic7\", \"Topic7\", \"Topic7\", \"Topic7\", \"Topic7\", \"Topic7\", \"Topic7\", \"Topic7\", \"Topic7\", \"Topic7\", \"Topic7\", \"Topic7\", \"Topic7\", \"Topic7\", \"Topic7\", \"Topic7\", \"Topic7\", \"Topic7\", \"Topic7\", \"Topic7\", \"Topic7\", \"Topic7\", \"Topic7\", \"Topic7\", \"Topic7\", \"Topic7\", \"Topic7\", \"Topic7\", \"Topic7\", \"Topic7\", \"Topic7\", \"Topic7\", \"Topic7\", \"Topic7\", \"Topic7\", \"Topic7\", \"Topic7\", \"Topic7\", \"Topic7\", \"Topic7\", \"Topic7\", \"Topic7\", \"Topic7\", \"Topic7\", \"Topic7\", \"Topic7\", \"Topic7\", \"Topic7\", \"Topic7\", \"Topic7\", \"Topic7\", \"Topic7\", \"Topic7\", \"Topic7\", \"Topic7\", \"Topic7\", \"Topic7\", \"Topic8\", \"Topic8\", \"Topic8\", \"Topic8\", \"Topic8\", \"Topic8\", \"Topic8\", \"Topic8\", \"Topic8\", \"Topic8\", \"Topic8\", \"Topic8\", \"Topic8\", \"Topic8\", \"Topic8\", \"Topic8\", \"Topic8\", \"Topic8\", \"Topic8\", \"Topic8\", \"Topic8\", \"Topic8\", \"Topic8\", \"Topic8\", \"Topic8\", \"Topic8\", \"Topic8\", \"Topic8\", \"Topic8\", \"Topic8\", \"Topic8\", \"Topic8\", \"Topic8\", \"Topic8\", \"Topic8\", \"Topic8\", \"Topic8\", \"Topic8\", \"Topic8\", \"Topic8\", \"Topic8\", \"Topic8\", \"Topic8\", \"Topic8\", \"Topic8\", \"Topic8\", \"Topic8\", \"Topic8\", \"Topic8\", \"Topic8\", \"Topic8\", \"Topic8\", \"Topic8\", \"Topic8\", \"Topic8\", \"Topic8\", \"Topic8\", \"Topic8\", \"Topic8\", \"Topic8\", \"Topic8\", \"Topic9\", \"Topic9\", \"Topic9\", \"Topic9\", \"Topic9\", \"Topic9\", \"Topic9\", \"Topic9\", \"Topic9\", \"Topic9\", \"Topic9\", \"Topic9\", \"Topic9\", \"Topic9\", \"Topic9\", \"Topic9\", \"Topic9\", \"Topic9\", \"Topic9\", \"Topic9\", \"Topic9\", \"Topic9\", \"Topic9\", \"Topic9\", \"Topic9\", \"Topic9\", \"Topic9\", \"Topic9\", \"Topic9\", \"Topic9\", \"Topic9\", \"Topic9\", \"Topic9\", \"Topic9\", \"Topic9\", \"Topic9\", \"Topic9\", \"Topic9\", \"Topic9\", \"Topic9\", \"Topic9\", \"Topic9\", \"Topic9\", \"Topic9\", \"Topic9\", \"Topic9\", \"Topic9\", \"Topic9\", \"Topic9\", \"Topic9\", \"Topic9\", \"Topic9\", \"Topic9\", \"Topic9\", \"Topic9\", \"Topic9\", \"Topic9\", \"Topic10\", \"Topic10\", \"Topic10\", \"Topic10\", \"Topic10\", \"Topic10\", \"Topic10\", \"Topic10\", \"Topic10\", \"Topic10\", \"Topic10\", \"Topic10\", \"Topic10\", \"Topic10\", \"Topic10\", \"Topic10\", \"Topic10\", \"Topic10\", \"Topic10\", \"Topic10\", \"Topic10\", \"Topic10\", \"Topic10\", \"Topic10\", \"Topic10\", \"Topic10\", \"Topic10\", \"Topic10\", \"Topic10\", \"Topic10\", \"Topic10\", \"Topic10\", \"Topic10\", \"Topic10\", \"Topic10\", \"Topic10\", \"Topic10\", \"Topic10\", \"Topic10\", \"Topic10\", \"Topic10\", \"Topic10\", \"Topic10\", \"Topic10\", \"Topic10\", \"Topic10\", \"Topic10\", \"Topic10\", \"Topic10\", \"Topic10\", \"Topic10\", \"Topic10\", \"Topic10\", \"Topic10\", \"Topic10\", \"Topic10\", \"Topic10\", \"Topic10\", \"Topic10\", \"Topic10\", \"Topic10\", \"Topic10\", \"Topic10\"], \"Total\": [4992, 5904, 2153, 6712, 1570, 8329, 8117, 2463, 1338, 564, 983, 371, 728, 1156, 4966, 976, 533, 332, 445, 221, 464, 468, 349, 226, 263, 288, 196, 364, 568, 322, 5, 5, 5, 18, 15, 5, 8, 5, 81, 10, 8, 6, 5, 15, 36, 11, 5, 5, 6, 109, 6, 11, 28, 14, 10, 11, 7, 5, 5, 7, 8, 13, 11, 16, 68, 4992, 5904, 533, 56, 96, 355, 122, 364, 32, 95, 8329, 8117, 291, 102, 143, 1156, 4966, 275, 123, 140, 468, 101, 96, 211, 263, 156, 976, 165, 400, 567, 193, 260, 476, 385, 63, 16, 21, 5, 6, 5, 7, 7, 45, 9, 7, 6, 5, 9, 8, 18, 7, 27, 5, 6, 5, 5, 22, 6, 5, 5, 10, 11, 14, 20, 33, 26, 41, 15, 96, 33, 37, 464, 62, 96, 43, 6712, 385, 2463, 211, 130, 8117, 8329, 355, 206, 114, 71, 273, 476, 291, 331, 103, 149, 108, 102, 4966, 568, 1156, 5904, 728, 522, 296, 567, 445, 331, 283, 5, 11, 14, 7, 6, 18, 8, 7, 8, 11, 13, 11, 10, 29, 11, 20, 46, 23, 6, 11, 9, 7, 52, 6, 6, 5, 5, 7, 5, 25, 138, 23, 59, 349, 139, 38, 445, 78, 73, 728, 2463, 115, 99, 6712, 103, 8329, 8117, 568, 115, 1338, 113, 131, 53, 73, 4966, 331, 567, 65, 84, 522, 143, 476, 149, 983, 7, 22, 22, 23, 23, 25, 10, 11, 5, 5, 7, 12, 7, 23, 6, 6, 5, 32, 5, 14, 5, 41, 6, 6, 332, 5, 20, 8, 6, 6, 43, 14, 50, 211, 15, 31, 40, 1338, 43, 37, 70, 8117, 124, 8329, 36, 55, 34, 51, 4966, 90, 49, 2463, 522, 143, 6712, 82, 151, 72, 115, 976, 146, 5, 6, 6, 7, 20, 8, 8, 5, 5, 5, 6, 5, 42, 9, 17, 6, 5, 7, 9, 5, 21, 23, 20, 9, 5, 6, 12, 11, 11, 11, 22, 564, 2153, 1570, 91, 121, 34, 52, 196, 156, 133, 322, 59, 48, 78, 122, 284, 4966, 468, 103, 983, 283, 51, 142, 133, 211, 76, 400, 1156, 355, 130, 105, 976, 5, 10, 7, 5, 6, 22, 5, 35, 6, 36, 5, 11, 5, 5, 5, 9, 12, 16, 30, 17, 8, 10, 15, 6, 14, 6, 61, 5, 5, 5, 65, 34, 27, 26, 45, 88, 371, 28, 21, 33, 59, 288, 34, 36, 84, 34, 983, 154, 126, 183, 149, 74, 285, 95, 151, 316, 141, 4992, 5904, 159, 173, 6712, 358, 4966, 283, 1338, 976, 1156, 204, 5, 6, 5, 5, 5, 6, 5, 6, 8, 7, 11, 6, 7, 8, 24, 14, 5, 5, 5, 7, 8, 7, 10, 6, 25, 30, 8, 8, 17, 7, 17, 38, 46, 25, 74, 24, 138, 35, 51, 120, 196, 36, 87, 142, 174, 226, 50, 35, 36, 90, 41, 247, 6712, 68, 42, 116, 217, 291, 167, 117, 4966, 983, 117, 74, 976, 400, 331, 89, 204, 5, 6, 6, 7, 8, 9, 14, 16, 11, 6, 7, 6, 7, 6, 20, 11, 8, 6, 8, 11, 5, 5, 36, 8, 31, 7, 16, 10, 8, 106, 109, 50, 46, 34, 25, 50, 84, 35, 122, 63, 56, 263, 31, 98, 976, 70, 67, 40, 47, 122, 119, 4966, 1156, 204, 150, 173, 63, 567, 125, 193, 400, 7, 13, 14, 20, 26, 8, 6, 28, 18, 5, 9, 13, 6, 15, 20, 7, 5, 7, 8, 9, 5, 12, 19, 10, 5, 16, 48, 15, 9, 22, 57, 39, 23, 44, 65, 55, 55, 41, 85, 61, 52, 50, 60, 124, 38, 195, 204, 8329, 8117, 976, 168, 6712, 54, 296, 522, 316, 4966, 5, 6, 7, 21, 26, 6, 19, 7, 63, 8, 13, 7, 26, 6, 6, 7, 6, 12, 7, 10, 12, 12, 12, 5, 7, 7, 48, 12, 9, 5, 124, 26, 11, 30, 23, 17, 12, 16, 221, 64, 42, 48, 67, 54, 43, 81, 120, 60, 110, 129, 66, 61, 66, 61, 41, 72, 94, 40, 6712, 146, 145, 322, 4966], \"loglift\": [30.0, 29.0, 28.0, 27.0, 26.0, 25.0, 24.0, 23.0, 22.0, 21.0, 20.0, 19.0, 18.0, 17.0, 16.0, 15.0, 14.0, 13.0, 12.0, 11.0, 10.0, 9.0, 8.0, 7.0, 6.0, 5.0, 4.0, 3.0, 2.0, 1.0, 2.4584, 2.4584, 2.4584, 2.413, 2.4117, 2.3274, 2.3248, 2.2765, 2.2708, 2.2361, 2.2244, 2.2083, 2.1768, 2.1494, 2.1466, 2.1417, 2.1409, 2.1408, 2.1267, 2.1207, 2.0615, 2.0404, 2.0384, 2.0382, 2.0334, 1.9959, 1.9938, 1.9693, 1.9613, 1.9554, 1.9462, 1.9193, 1.9272, 1.902, 1.773, 1.3143, 1.2408, 1.4617, 1.7136, 1.6156, 1.3456, 1.5239, 1.3017, 1.7741, 1.4953, 0.3966, 0.3675, 1.1967, 1.4644, 1.3309, 0.6987, 0.2209, 1.1182, 1.3596, 1.3014, 0.8667, 1.4024, 1.41, 1.0533, 0.9572, 1.1699, 0.2292, 1.0486, 0.4745, 0.1443, 0.9276, 0.6142, 0.0375, 0.137, 2.7306, 2.6876, 2.5781, 2.5688, 2.5358, 2.5259, 2.4841, 2.4249, 2.4125, 2.4111, 2.4017, 2.3862, 2.3853, 2.3806, 2.3661, 2.3535, 2.3413, 2.3316, 2.329, 2.3246, 2.321, 2.3118, 2.2727, 2.2679, 2.2496, 2.236, 2.2308, 2.2222, 2.2149, 2.2087, 2.1645, 2.1703, 2.1235, 2.1906, 1.9205, 2.0686, 2.0027, 1.5402, 1.8975, 1.7784, 1.9409, 0.7384, 1.383, 0.8524, 1.5047, 1.6161, 0.4738, 0.4611, 1.3442, 1.4621, 1.6146, 1.7517, 1.282, 1.0834, 1.2461, 1.1724, 1.5921, 1.4345, 1.5571, 1.5725, -0.3597, 0.7055, 0.1155, -0.8748, 0.347, 0.498, 0.8662, 0.4131, 0.3961, 0.5581, 0.6919, 3.0204, 3.0166, 2.8541, 2.8089, 2.7966, 2.7763, 2.7755, 2.7597, 2.718, 2.6799, 2.6412, 2.6136, 2.5801, 2.5662, 2.5645, 2.5615, 2.557, 2.5363, 2.4942, 2.4905, 2.4874, 2.4728, 2.4569, 2.4385, 2.4384, 2.4384, 2.4184, 2.4177, 2.3923, 2.374, 2.202, 2.3019, 2.2202, 2.0193, 2.112, 2.2316, 1.8636, 2.1226, 2.0828, 1.6156, 1.3196, 1.9723, 1.9811, 0.6983, 1.9389, 0.5393, 0.5268, 1.3546, 1.8501, 0.9821, 1.8483, 1.7767, 2.1022, 1.9534, 0.0435, 1.244, 0.9022, 1.9931, 1.8167, 0.6224, 1.3396, 0.2905, 1.2763, -0.6161, 3.1397, 3.1363, 3.1363, 3.1362, 3.1362, 3.0705, 3.057, 3.0413, 3.0386, 3.0386, 3.0066, 2.9999, 2.9887, 2.9881, 2.9836, 2.9178, 2.8924, 2.8581, 2.8242, 2.8234, 2.8157, 2.8096, 2.803, 2.7973, 2.7802, 2.7581, 2.7573, 2.7499, 2.741, 2.7175, 2.6754, 2.6863, 2.5427, 2.2902, 2.6583, 2.4978, 2.4094, 1.64, 2.3505, 2.3804, 2.1804, 0.512, 1.9243, 0.4068, 2.3414, 2.1687, 2.3591, 2.1817, 0.0969, 1.9006, 2.1958, 0.1596, 0.9512, 1.6087, -0.697, 1.8755, 1.43, 1.9228, 1.4795, -0.439, 1.1626, 3.4529, 3.4517, 3.4517, 3.4508, 3.4077, 3.3869, 3.3869, 3.3498, 3.2839, 3.2615, 3.2482, 3.1712, 3.1482, 3.079, 3.0572, 3.0345, 3.0322, 2.9952, 2.9181, 2.8904, 2.8277, 2.8195, 2.8194, 2.8194, 2.8016, 2.7911, 2.789, 2.7728, 2.7728, 2.7728, 2.7378, 2.5415, 2.4178, 2.3711, 2.4991, 2.4484, 2.622, 2.5295, 2.1711, 2.2148, 2.2541, 1.9615, 2.4111, 2.4729, 2.2832, 2.0715, 1.6593, 0.4241, 1.4285, 2.0432, 0.9433, 1.5009, 2.3375, 1.6466, 1.6805, 1.3777, 1.9866, 0.8037, -0.0654, 0.725, 1.517, 1.7018, -0.481, 3.687, 3.6331, 3.361, 3.3392, 3.1677, 3.1597, 3.071, 3.0622, 3.0548, 3.051, 3.0454, 3.0445, 3.0183, 3.0145, 3.0145, 3.0071, 2.9992, 2.9758, 2.9634, 2.9608, 2.9363, 2.9248, 2.9245, 2.9222, 2.8826, 2.8778, 2.8712, 2.8711, 2.8641, 2.8501, 2.8373, 2.8164, 2.811, 2.7851, 2.7308, 2.6634, 2.4206, 2.7433, 2.7825, 2.6948, 2.5825, 2.253, 2.6823, 2.6556, 2.4284, 2.6545, 1.7214, 2.2298, 2.2684, 2.1458, 2.1905, 2.4182, 1.8936, 2.2254, 1.9811, 1.6159, 1.9346, 0.0879, 0.0003, 1.8623, 1.8157, -0.1868, 1.3983, -0.3614, 1.3771, 0.1147, 0.1402, -0.0058, 1.385, 3.8438, 3.6051, 3.5946, 3.5703, 3.5373, 3.3876, 3.3468, 3.333, 3.3201, 3.2715, 3.2608, 3.2329, 3.204, 3.202, 3.1832, 3.1811, 3.1713, 3.1713, 3.1713, 3.1469, 3.1313, 3.1275, 3.1222, 3.1032, 3.0976, 3.0927, 3.0854, 3.0746, 3.0541, 3.0539, 3.0469, 3.0334, 3.0106, 3.0314, 2.9611, 3.027, 2.8746, 2.9827, 2.9231, 2.8125, 2.7228, 2.9388, 2.8032, 2.7186, 2.5616, 2.4969, 2.8181, 2.8973, 2.8816, 2.5691, 2.8086, 2.1974, 0.9944, 2.62, 2.7418, 2.2729, 1.9908, 1.8059, 2.0161, 2.1983, 0.1114, 0.4149, 1.9517, 2.3042, 0.1944, 0.8719, 0.947, 2.1093, 1.2937, 3.8734, 3.8723, 3.8723, 3.8715, 3.8708, 3.8703, 3.8689, 3.7857, 3.7635, 3.7468, 3.7449, 3.6938, 3.6836, 3.6768, 3.6682, 3.6378, 3.6374, 3.6149, 3.6136, 3.5575, 3.4899, 3.4697, 3.4615, 3.3899, 3.3861, 3.3803, 3.376, 3.3609, 3.353, 3.3343, 3.319, 3.2653, 3.2534, 3.263, 3.2546, 3.1163, 2.9954, 3.1695, 2.7346, 2.9344, 2.9391, 2.3968, 3.1131, 2.6592, 1.5959, 2.6925, 2.6861, 2.9286, 2.8471, 2.3626, 2.3679, 0.223, 1.0242, 1.9849, 1.9964, 1.8192, 2.5675, 0.7071, 1.9365, 1.5452, 0.7942, 4.0152, 4.0129, 4.0127, 4.012, 3.9338, 3.912, 3.908, 3.8987, 3.892, 3.8356, 3.8353, 3.8289, 3.7468, 3.7189, 3.6985, 3.6663, 3.6133, 3.5825, 3.5495, 3.4872, 3.4871, 3.485, 3.4787, 3.4603, 3.4548, 3.435, 3.4209, 3.4069, 3.4045, 3.3897, 3.2937, 3.1739, 3.2559, 3.1451, 3.0046, 3.0368, 3.0041, 3.0682, 2.7979, 2.8851, 2.9389, 2.941, 2.8673, 2.5784, 3.0413, 2.0819, 1.9816, -0.2524, -0.2455, 0.8551, 2.0334, -0.6345, 2.7667, 1.4278, 0.7459, 1.1052, -1.6182, 4.171, 4.1698, 4.169, 4.0685, 4.029, 3.9914, 3.961, 3.9301, 3.904, 3.8063, 3.773, 3.7546, 3.6709, 3.6601, 3.6448, 3.6257, 3.6252, 3.6176, 3.5923, 3.5854, 3.5679, 3.5679, 3.5679, 3.5551, 3.55, 3.5374, 3.5278, 3.5267, 3.521, 3.5197, 3.4942, 3.4588, 3.5048, 3.422, 3.445, 3.4446, 3.4904, 3.434, 2.8669, 3.1318, 3.1588, 3.1226, 3.0125, 3.0754, 3.1148, 2.8615, 2.7153, 2.9618, 2.6745, 2.5995, 2.8793, 2.8843, 2.8362, 2.8063, 3.0109, 2.6821, 2.4652, 3.012, -0.5165, 2.0579, 1.923, 1.1316, -1.5166], \"logprob\": [30.0, 29.0, 28.0, 27.0, 26.0, 25.0, 24.0, 23.0, 22.0, 21.0, 20.0, 19.0, 18.0, 17.0, 16.0, 15.0, 14.0, 13.0, 12.0, 11.0, 10.0, 9.0, 8.0, 7.0, 6.0, 5.0, 4.0, 3.0, 2.0, 1.0, -7.7365, -7.7365, -7.7365, -6.5009, -6.6845, -7.8675, -7.4001, -7.9184, -5.1391, -7.2657, -7.5005, -7.8043, -8.0181, -6.9469, -6.0743, -7.2647, -8.0541, -8.0541, -7.8859, -4.9923, -7.9511, -7.366, -6.4337, -7.1271, -7.4684, -7.4106, -7.8647, -8.2256, -8.2336, -7.903, -7.7787, -7.32, -7.4793, -7.1298, -5.8118, -1.9745, -1.8802, -4.0641, -6.0654, -5.6244, -4.5866, -5.4764, -4.6055, -6.5645, -5.7552, -2.3802, -2.4351, -4.9343, -5.7149, -5.5106, -4.0529, -3.0731, -5.0694, -5.6325, -5.5613, -4.7892, -5.7868, -5.83, -5.3992, -5.275, -5.5846, -4.6917, -5.6498, -5.3383, -5.3197, -5.6141, -5.6295, -5.6014, -5.7141, -4.9306, -6.3442, -6.1817, -7.6261, -7.4768, -7.669, -7.3744, -7.4335, -5.5852, -7.196, -7.4568, -7.6264, -7.8096, -7.2265, -7.3588, -6.5605, -7.5172, -6.1769, -7.8659, -7.688, -7.8739, -7.8831, -6.4406, -7.7447, -7.9453, -7.9589, -7.2709, -7.1842, -6.9504, -6.5999, -6.1434, -6.376, -5.9672, -6.9057, -5.3195, -6.2392, -6.1907, -4.1243, -5.7797, -5.4616, -6.1023, -2.2543, -4.4681, -3.1428, -4.9478, -5.3207, -2.3288, -2.3158, -4.588, -5.0144, -5.4536, -5.7899, -4.9129, -4.5555, -4.8849, -4.8298, -5.5775, -5.3659, -5.5651, -5.6068, -3.6537, -4.7567, -4.6361, -3.9958, -4.867, -5.0486, -5.2478, -5.0509, -5.3102, -5.4441, -5.467, -7.1745, -6.3898, -6.3112, -7.0495, -7.216, -6.1377, -6.9494, -7.0988, -7.0069, -6.7266, -6.5982, -6.7929, -6.9217, -5.8709, -6.842, -6.2471, -5.4187, -6.1326, -7.5184, -6.9159, -7.1198, -7.3856, -5.3962, -7.5741, -7.5742, -7.7565, -7.7766, -7.4408, -7.8026, -6.2115, -4.6751, -6.367, -5.5066, -3.9299, -4.7579, -5.9352, -3.8427, -5.325, -5.4311, -3.5985, -2.6756, -5.0872, -5.2281, -2.2943, -5.2307, -2.2376, -2.2758, -4.1076, -5.2094, -3.6233, -5.2286, -5.1525, -5.7319, -5.5605, -3.2505, -4.7582, -4.5618, -5.6368, -5.5569, -4.9243, -5.5019, -5.3484, -5.5241, -5.5299, -6.7188, -5.577, -5.577, -5.5327, -5.5327, -5.515, -6.4448, -6.3652, -7.1563, -7.1563, -6.8519, -6.3196, -6.8698, -5.6807, -7.029, -7.0948, -7.3025, -5.4805, -7.3707, -6.3419, -7.3792, -5.2812, -7.2096, -7.2153, -3.219, -7.4368, -6.0513, -6.975, -7.2716, -7.2951, -5.3677, -6.479, -5.3496, -4.1623, -6.438, -5.8725, -5.7061, -2.9655, -5.6926, -5.813, -5.3755, -2.2907, -5.0597, -2.3701, -5.8794, -5.6283, -5.9189, -5.6909, -3.1971, -5.404, -5.7167, -3.8357, -4.5954, -5.2328, -3.6897, -5.5222, -5.3571, -5.6048, -5.5799, -5.3599, -5.6581, -6.7421, -6.5609, -6.5609, -6.4076, -5.4009, -6.338, -6.338, -6.8451, -6.911, -6.9334, -6.7644, -7.0237, -4.9185, -6.5281, -5.914, -6.9781, -7.1627, -6.8632, -6.689, -7.3045, -5.9321, -5.8494, -5.9893, -6.7878, -7.3933, -7.2215, -6.5304, -6.6337, -6.6337, -6.6337, -5.9755, -2.9278, -1.712, -2.0744, -4.7944, -4.5602, -5.6559, -5.3236, -4.3552, -4.5396, -4.6599, -4.0683, -5.3157, -5.4603, -5.1644, -4.9288, -4.4961, -2.8699, -4.2274, -5.1264, -3.9704, -4.658, -5.5351, -5.202, -5.2335, -5.0748, -5.487, -5.0092, -4.817, -5.2072, -5.4198, -5.4486, -5.4018, -6.5079, -5.8686, -6.4974, -6.8557, -6.8449, -5.5536, -7.1239, -5.1868, -6.9578, -5.1698, -7.1495, -6.3619, -7.1766, -7.1804, -7.1804, -6.6, -6.3202, -6.056, -5.4397, -6.0103, -6.7886, -6.577, -6.1718, -7.0904, -6.2827, -7.1347, -4.8223, -7.3238, -7.3308, -7.3448, -4.7927, -5.4616, -5.6975, -5.7612, -5.2669, -4.6636, -3.4675, -5.7288, -5.9773, -5.613, -5.1443, -3.8884, -5.5956, -5.5652, -4.9452, -5.6235, -3.1923, -4.5376, -4.6996, -4.4491, -4.6099, -5.0821, -4.2583, -5.0251, -4.806, -4.4327, -4.9209, -3.2008, -3.1206, -4.8732, -4.8353, -3.1795, -4.5255, -3.6554, -4.7818, -4.4907, -4.7807, -4.7574, -5.1012, -6.3511, -6.4075, -6.6003, -6.6246, -6.6576, -6.625, -6.8481, -6.6796, -6.4048, -6.587, -6.1457, -6.7796, -6.6544, -6.5229, -5.4431, -5.9842, -7.0236, -7.0236, -7.0236, -6.7116, -6.5936, -6.731, -6.3796, -6.9094, -5.4879, -5.3105, -6.6395, -6.6503, -5.9171, -6.8045, -5.9243, -5.1334, -4.9651, -5.5541, -4.5391, -5.5993, -4.0025, -5.2663, -4.9494, -4.2043, -3.8034, -5.2821, -4.5352, -4.1299, -4.0837, -3.8869, -5.0742, -5.3517, -5.3392, -4.7354, -5.2821, -4.0976, -1.9983, -4.9648, -5.3249, -4.7778, -4.4336, -4.3251, -4.6703, -4.8439, -3.1826, -4.4988, -5.0904, -5.1961, -4.7265, -4.941, -5.0552, -5.2064, -5.1925, -6.3215, -6.1403, -6.1403, -5.987, -5.8541, -5.7368, -5.2963, -5.246, -5.6429, -6.2658, -6.1136, -6.3188, -6.1749, -6.3358, -5.1404, -5.7686, -6.0875, -6.3977, -6.1113, -5.8489, -6.705, -6.7252, -4.7593, -6.335, -4.9842, -6.4781, -5.6557, -6.1409, -6.372, -3.8066, -3.794, -4.627, -4.7223, -5.015, -5.3308, -4.7761, -4.3781, -5.0795, -4.2658, -4.7268, -4.8399, -3.8354, -5.2573, -4.5602, -3.325, -4.8633, -4.9136, -5.1869, -5.1071, -4.6378, -4.6573, -3.071, -3.7275, -4.5013, -4.7973, -4.8319, -5.0937, -4.7569, -5.0396, -4.9964, -5.0187, -5.8432, -5.2265, -5.1526, -4.7967, -4.6124, -5.8129, -6.1045, -4.5734, -5.0219, -6.3593, -5.7718, -5.4105, -6.2658, -5.3774, -5.1101, -6.1921, -6.5816, -6.276, -6.1755, -6.1199, -6.7079, -5.8344, -5.3812, -6.0415, -6.7401, -5.5968, -4.5123, -5.6894, -6.2026, -5.3236, -4.4676, -4.9669, -5.413, -4.875, -4.6254, -4.7602, -4.7929, -5.0225, -4.5638, -4.8084, -4.9142, -4.9513, -4.8427, -4.4057, -5.1254, -4.4495, -4.5046, -3.0293, -3.0481, -4.0658, -4.647, -3.6272, -5.0487, -4.6862, -4.8008, -4.9434, -4.9122, -6.0239, -5.8428, -5.6894, -4.6913, -4.5172, -6.0212, -4.8989, -5.9283, -3.7572, -5.9186, -5.4664, -6.1039, -4.8754, -6.3524, -6.3678, -6.2327, -6.3874, -5.7018, -6.2661, -5.9163, -5.7515, -5.7515, -5.7515, -6.6398, -6.3084, -6.3211, -4.4053, -5.7927, -6.0861, -6.6752, -3.4899, -5.0875, -5.9017, -4.9811, -5.2238, -5.5265, -5.8291, -5.5978, -3.5393, -4.5136, -4.9079, -4.8106, -4.5871, -4.74, -4.9283, -4.5484, -4.3016, -4.7482, -4.4294, -4.3451, -4.7353, -4.8091, -4.7785, -4.8872, -5.0798, -4.8456, -4.7958, -5.1035, -3.5092, -4.7628, -4.9047, -4.8982, -4.8106]}, \"mdsDat\": {\"topics\": [1, 2, 3, 4, 5, 6, 7, 8, 9, 10], \"Freq\": [23.277737738153544, 16.99505853040475, 12.617025837523698, 10.42824939611266, 8.697192618300503, 7.91341785665672, 6.437488724229842, 5.0589635377829305, 4.587513690033389, 3.987352070801963], \"cluster\": [1, 1, 1, 1, 1, 1, 1, 1, 1, 1], \"y\": [0.21045638773416842, -0.0027827906493535, -0.010123183535255336, 0.016089497407254683, 0.1258910596046939, 0.12733817832062239, -0.14857941505959424, 0.08154482516279216, -0.10452674407002766, -0.2953078149153004], \"x\": [-0.11191203907261307, -0.20489364394308315, -0.21992579472655735, -0.19543790841520617, 0.2632887836346721, 0.1548402980483308, 0.09120088753266355, 0.20033913669961334, -0.13158405170390017, 0.15408433194607993]}, \"R\": 30, \"lambda.step\": 0.01, \"topic.order\": [3, 9, 2, 6, 10, 7, 8, 1, 5, 4]};\n",
       "\n",
       "function LDAvis_load_lib(url, callback){\n",
       "  var s = document.createElement('script');\n",
       "  s.src = url;\n",
       "  s.async = true;\n",
       "  s.onreadystatechange = s.onload = callback;\n",
       "  s.onerror = function(){console.warn(\"failed to load library \" + url);};\n",
       "  document.getElementsByTagName(\"head\")[0].appendChild(s);\n",
       "}\n",
       "\n",
       "if(typeof(LDAvis) !== \"undefined\"){\n",
       "   // already loaded: just create the visualization\n",
       "   !function(LDAvis){\n",
       "       new LDAvis(\"#\" + \"ldavis_el5347745917543608647648856\", ldavis_el5347745917543608647648856_data);\n",
       "   }(LDAvis);\n",
       "}else if(typeof define === \"function\" && define.amd){\n",
       "   // require.js is available: use it to load d3/LDAvis\n",
       "   require.config({paths: {d3: \"https://cdnjs.cloudflare.com/ajax/libs/d3/3.5.5/d3.min\"}});\n",
       "   require([\"d3\"], function(d3){\n",
       "      window.d3 = d3;\n",
       "      LDAvis_load_lib(\"https://cdn.rawgit.com/bmabey/pyLDAvis/files/ldavis.v1.0.0.js\", function(){\n",
       "        new LDAvis(\"#\" + \"ldavis_el5347745917543608647648856\", ldavis_el5347745917543608647648856_data);\n",
       "      });\n",
       "    });\n",
       "}else{\n",
       "    // require.js not available: dynamically load d3 & LDAvis\n",
       "    LDAvis_load_lib(\"https://cdnjs.cloudflare.com/ajax/libs/d3/3.5.5/d3.min.js\", function(){\n",
       "         LDAvis_load_lib(\"https://cdn.rawgit.com/bmabey/pyLDAvis/files/ldavis.v1.0.0.js\", function(){\n",
       "                 new LDAvis(\"#\" + \"ldavis_el5347745917543608647648856\", ldavis_el5347745917543608647648856_data);\n",
       "            })\n",
       "         });\n",
       "}\n",
       "</script>"
      ],
      "text/plain": [
       "<IPython.core.display.HTML object>"
      ]
     },
     "execution_count": 24,
     "metadata": {},
     "output_type": "execute_result"
    }
   ],
   "source": [
    "pyLDAvis.display(for_viz)"
   ]
  },
  {
   "cell_type": "code",
   "execution_count": null,
   "metadata": {
    "collapsed": true
   },
   "outputs": [],
   "source": []
  }
 ],
 "metadata": {
  "kernelspec": {
   "display_name": "Python 3",
   "language": "python",
   "name": "python3"
  },
  "language_info": {
   "codemirror_mode": {
    "name": "ipython",
    "version": 3
   },
   "file_extension": ".py",
   "mimetype": "text/x-python",
   "name": "python",
   "nbconvert_exporter": "python",
   "pygments_lexer": "ipython3",
   "version": "3.4.4"
  }
 },
 "nbformat": 4,
 "nbformat_minor": 0
}
