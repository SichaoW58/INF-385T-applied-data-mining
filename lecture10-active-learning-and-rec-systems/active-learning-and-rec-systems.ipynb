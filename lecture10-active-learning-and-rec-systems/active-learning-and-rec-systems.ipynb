{
 "cells": [
  {
   "cell_type": "markdown",
   "metadata": {},
   "source": [
    "## INF 385: Lecture 10\n",
    "\n",
    "active learning and recommendation systems"
   ]
  },
  {
   "cell_type": "code",
   "execution_count": 2,
   "metadata": {
    "collapsed": false
   },
   "outputs": [
    {
     "name": "stdout",
     "output_type": "stream",
     "text": [
      "Populating the interactive namespace from numpy and matplotlib\n"
     ]
    },
    {
     "name": "stderr",
     "output_type": "stream",
     "text": [
      "WARNING: pylab import has clobbered these variables: ['random']\n",
      "`%matplotlib` prevents importing * from pylab and numpy\n"
     ]
    }
   ],
   "source": [
    "# hide warnings to keep things tidy.\n",
    "import warnings\n",
    "warnings.filterwarnings('ignore')\n",
    "import operator\n",
    "import random \n",
    "\n",
    "import sklearn\n",
    "from sklearn.linear_model import SGDClassifier\n",
    "from sklearn.cross_validation import train_test_split\n",
    "from sklearn.feature_extraction.text import CountVectorizer\n",
    "\n",
    "from pprint import pprint\n",
    "    \n",
    "import numpy as np \n",
    "\n",
    "%pylab inline\n"
   ]
  },
  {
   "cell_type": "code",
   "execution_count": 3,
   "metadata": {
    "collapsed": false
   },
   "outputs": [],
   "source": [
    "# this is a spam / ham dataset of SMS messages; \n",
    "# credit to https://github.com/amueller/scipy_2015_sklearn_tutorial\n",
    "import os\n",
    "with open(\"SMSSpamCollection.txt\") as f:\n",
    "    lines = [line.strip().split(\"\\t\") for line in f.readlines()]\n",
    "text = [x[1] for x in lines]\n",
    "y = [x[0] == \"ham\" for x in lines]"
   ]
  },
  {
   "cell_type": "code",
   "execution_count": 4,
   "metadata": {
    "collapsed": false
   },
   "outputs": [
    {
     "data": {
      "text/plain": [
       "(['Go until jurong point, crazy.. Available only in bugis n great world la e buffet... Cine there got amore wat...',\n",
       "  'Ok lar... Joking wif u oni...',\n",
       "  \"Free entry in 2 a wkly comp to win FA Cup final tkts 21st May 2005. Text FA to 87121 to receive entry question(std txt rate)T&C's apply 08452810075over18's\",\n",
       "  'U dun say so early hor... U c already then say...',\n",
       "  \"Nah I don't think he goes to usf, he lives around here though\",\n",
       "  \"FreeMsg Hey there darling it's been 3 week's now and no word back! I'd like some fun you up for it still? Tb ok! XxX std chgs to send, $1.50 to rcv\",\n",
       "  'Even my brother is not like to speak with me. They treat me like aids patent.',\n",
       "  \"As per your request 'Melle Melle (Oru Minnaminunginte Nurungu Vettam)' has been set as your callertune for all Callers. Press *9 to copy your friends Callertune\",\n",
       "  'WINNER!! As a valued network customer you have been selected to receivea $900 prize reward! To claim call 09061701461. Claim code KL341. Valid 12 hours only.',\n",
       "  'Had your mobile 11 months or more? U R entitled to Update to the latest colour mobiles with camera for Free! Call The Mobile Update Co FREE on 08002986030'],\n",
       " [True, True, False, True, True, False, True, True, False, False])"
      ]
     },
     "execution_count": 4,
     "metadata": {},
     "output_type": "execute_result"
    }
   ],
   "source": [
    "text[:10], y[:10]"
   ]
  },
  {
   "cell_type": "code",
   "execution_count": 5,
   "metadata": {
    "collapsed": false
   },
   "outputs": [],
   "source": [
    "text_train, text_test, y_train, y_test = train_test_split(text, y, random_state=42)"
   ]
  },
  {
   "cell_type": "code",
   "execution_count": 6,
   "metadata": {
    "collapsed": false
   },
   "outputs": [],
   "source": [
    "vectorizer = CountVectorizer(stop_words='english')\n",
    "vectorizer.fit(text_train)\n",
    "\n",
    "X_train = vectorizer.transform(text_train)\n",
    "X_test = vectorizer.transform(text_test)"
   ]
  },
  {
   "cell_type": "code",
   "execution_count": 7,
   "metadata": {
    "collapsed": false
   },
   "outputs": [
    {
     "data": {
      "text/plain": [
       "(4180, 7202)"
      ]
     },
     "execution_count": 7,
     "metadata": {},
     "output_type": "execute_result"
    }
   ],
   "source": [
    "X_train.shape"
   ]
  },
  {
   "cell_type": "code",
   "execution_count": 8,
   "metadata": {
    "collapsed": false
   },
   "outputs": [],
   "source": [
    "y_train = np.array(y_train)"
   ]
  },
  {
   "cell_type": "markdown",
   "metadata": {},
   "source": [
    "First use a 'standard' (or 'passive') learning approach, sampling the first 1000 examples (at random)"
   ]
  },
  {
   "cell_type": "code",
   "execution_count": 9,
   "metadata": {
    "collapsed": false
   },
   "outputs": [
    {
     "data": {
      "image/png": "[encoded data removed]",
      "text/plain": [
       "<matplotlib.figure.Figure at 0x104765e10>"
      ]
     },
     "metadata": {},
     "output_type": "display_data"
    }
   ],
   "source": [
    "n_labels_total = 500\n",
    "sampled_thus_far = 10 # we'll initialize with 10\n",
    "k = 10 # sample 5 examples in each 'batch'\n",
    "pool = X_train # all available examples (that we could have labeled)\n",
    "pool_indices = list(range(pool.shape[0])) # all training instances available\n",
    "cur_train_indices = [] # the indices sampled thus far \n",
    "# start with the first 10\n",
    "cur_train_indices = pool_indices[:10]\n",
    "# and remove from pool!\n",
    "pool_indices = pool_indices[10:]\n",
    "\n",
    "# initial score\n",
    "clf = SGDClassifier(loss=\"log\")\n",
    "clf.fit(X_train[cur_train_indices,:], y_train[cur_train_indices])\n",
    "score = clf.score(X_test, y_test) # how'd we do?\n",
    "\n",
    "num_labels = [10] # basically the x-axis we'll want for a learning curve\n",
    "scores = [score] # how well we do\n",
    "\n",
    "\n",
    "while sampled_thus_far < n_labels_total:\n",
    "    \n",
    "    cur_sample = random.choice(pool_indices, size=k, replace=False)\n",
    "    \n",
    "    # remove these so we don't sample again! and\n",
    "    # add to train/pool sample\n",
    "    for idx in cur_sample:\n",
    "        pool_indices.remove(idx)\n",
    "        cur_train_indices.append(idx)\n",
    "    \n",
    "    # fit to currently selected data\n",
    "    clf.fit(X_train[cur_train_indices,:], y_train[cur_train_indices])\n",
    "    score = clf.score(X_test, y_test) # how'd we do?\n",
    "    scores.append(score)\n",
    "    \n",
    "    num_labels.append(len(cur_train_indices))\n",
    "    sampled_thus_far += k\n",
    "\n",
    "\n",
    "pylab.plot(num_labels, scores);"
   ]
  },
  {
   "cell_type": "markdown",
   "metadata": {},
   "source": [
    "your turn (class exercise)! now swap in an 'active learning' method -- uncertainty sampling -- in place of random sampling -- how does this do??\n",
    "\n",
    "Note: if you finish early; try implementing active learning using a different model/approach (e.g., Naive Bayes + uncertainty sampling)\n"
   ]
  },
  {
   "cell_type": "code",
   "execution_count": 10,
   "metadata": {
    "collapsed": false
   },
   "outputs": [
    {
     "data": {
      "text/plain": [
       "[<matplotlib.lines.Line2D at 0x10ae5ebe0>]"
      ]
     },
     "execution_count": 10,
     "metadata": {},
     "output_type": "execute_result"
    },
    {
     "data": {
      "image/png": "[encoded data removed]",
      "text/plain": [
       "<matplotlib.figure.Figure at 0x10aed79b0>"
      ]
     },
     "metadata": {},
     "output_type": "display_data"
    }
   ],
   "source": [
    "n_labels_total = 500\n",
    "sampled_thus_far = 10 # we'll initialize with 10\n",
    "k = 10 # sample 5 examples in each 'batch'\n",
    "pool = X_train # all available examples (that we could have labeled)\n",
    "pool_indices = list(range(pool.shape[0])) # all training instances available\n",
    "cur_train_indices = [] # the indices sampled thus far \n",
    "# start with the first 100\n",
    "cur_train_indices = pool_indices[:10]\n",
    "# and remove from pool!\n",
    "pool_indices = pool_indices[10:]\n",
    "\n",
    "clf = SGDClassifier(loss=\"log\")\n",
    "# initial score\n",
    "clf.fit(X_train[cur_train_indices,:], y_train[cur_train_indices])\n",
    "score = clf.score(X_test, y_test) # how'd we do?\n",
    "\n",
    "num_labels = [10] # basically the x-axis we'll want for a learning curve\n",
    "active_scores = [score] # how well we do\n",
    "\n",
    "while sampled_thus_far < n_labels_total:\n",
    "    \n",
    "    ### \n",
    "    # here's the block we change!\n",
    "    # cur_sample = random.choice(pool_indices, size=k, replace=False)\n",
    "    # predict all probabilities\n",
    "    indices_to_probs = {}\n",
    "    for idx in pool_indices:\n",
    "        indices_to_probs[idx] = abs(0.5 - \n",
    "                                    max(clf.predict_proba(X_train[idx])[0]))\n",
    "\n",
    "                                    \n",
    "    \n",
    "    # rank instances!\n",
    "    sorted_indices = sorted(indices_to_probs, key=indices_to_probs.get)\n",
    "    # take top k\n",
    "    cur_sample = sorted_indices[:k]\n",
    "    ## that's all!\n",
    "    \n",
    "    # remove these so we don't sample again! and\n",
    "    # add to train/pool sample\n",
    "    for idx in cur_sample:\n",
    "        pool_indices.remove(idx)\n",
    "        cur_train_indices.append(idx)\n",
    "    \n",
    "    # fit to currently selected data\n",
    "    clf.fit(X_train[cur_train_indices,:], y_train[cur_train_indices])\n",
    "    score = clf.score(X_test, y_test) # how'd we do?\n",
    "    active_scores.append(score)\n",
    "    \n",
    "    num_labels.append(len(cur_train_indices))\n",
    "    sampled_thus_far += k\n",
    "\n",
    "\n",
    "pylab.plot(num_labels, active_scores)"
   ]
  },
  {
   "cell_type": "code",
   "execution_count": 11,
   "metadata": {
    "collapsed": false
   },
   "outputs": [
    {
     "data": {
      "image/png": "[encoded data removed]",
      "text/plain": [
       "<matplotlib.figure.Figure at 0x107416ef0>"
      ]
     },
     "metadata": {},
     "output_type": "display_data"
    }
   ],
   "source": [
    "# plot together\n",
    "pylab.plot(num_labels, scores, label='random')\n",
    "pylab.plot(num_labels, active_scores, label='active')\n",
    "pylab.legend(loc=\"upper left\");"
   ]
  },
  {
   "cell_type": "markdown",
   "metadata": {
    "collapsed": true
   },
   "source": [
    "### Recommender systems\n",
    "OK, let's switch gears a bit and experiment with recommender systems."
   ]
  },
  {
   "cell_type": "code",
   "execution_count": null,
   "metadata": {
    "collapsed": true
   },
   "outputs": [],
   "source": []
  }
 ],
 "metadata": {
  "kernelspec": {
   "display_name": "Python 3",
   "language": "python",
   "name": "python3"
  },
  "language_info": {
   "codemirror_mode": {
    "name": "ipython",
    "version": 3
   },
   "file_extension": ".py",
   "mimetype": "text/x-python",
   "name": "python",
   "nbconvert_exporter": "python",
   "pygments_lexer": "ipython3",
   "version": "3.4.4"
  }
 },
 "nbformat": 4,
 "nbformat_minor": 0
}
