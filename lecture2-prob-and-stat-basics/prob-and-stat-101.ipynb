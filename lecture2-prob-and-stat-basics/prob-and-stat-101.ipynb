{
 "cells": [
  {
   "cell_type": "code",
   "execution_count": 1,
   "metadata": {
    "collapsed": true
   },
   "outputs": [],
   "source": [
    "'''\n",
    "INF 385T UTexas:: byron wallace\n",
    "Sp 2016\n",
    "lecture 2: basic prob and stat review\n",
    "'''\n",
    "# hide warnings to keep things tidy.\n",
    "import warnings\n",
    "warnings.filterwarnings('ignore')\n",
    "import random\n",
    "\n",
    "import numpy as np\n",
    "\n",
    "import matplotlib\n",
    "import matplotlib.pyplot as plt\n",
    "%matplotlib inline  \n",
    "matplotlib.style.use('ggplot') # make things a bit prettier.\n",
    "\n",
    "import pandas as pd\n",
    "import statsmodels.api as sm  # this is new! we'll be using the lovely statsmodels often."
   ]
  },
  {
   "cell_type": "code",
   "execution_count": 2,
   "metadata": {
    "collapsed": true
   },
   "outputs": [],
   "source": [
    "##\n",
    "# flipping coins\n",
    "#  (could also just use random.choice([\"H\", \"T\"]))\n",
    "def coin_flip(p=.5):\n",
    "    if random.random() >= p:\n",
    "        return \"H\"\n",
    "    return \"T\"\n",
    "\n",
    "def flip_coins(n):\n",
    "    flips = [coin_flip() for _ in range(n)]\n",
    "    flips_dict = {\"H\":flips.count(\"H\"), \"T\":flips.count(\"T\")}\n",
    "    # plot\n",
    "    plt.bar(range(len(flips_dict)), flips_dict.values(), width=0.5, align='center')\n",
    "    ticks = plt.xticks([0,1], [\"H\", \"T\"])\n",
    "    ## parameter fitting (maximimum likelihood)\n",
    "    pi_hat = flips_dict[\"H\"] / sum(flips_dict.values())\n",
    "    return pi_hat"
   ]
  },
  {
   "cell_type": "code",
   "execution_count": 5,
   "metadata": {
    "collapsed": false
   },
   "outputs": [
    {
     "name": "stdout",
     "output_type": "stream",
     "text": [
      "0.2\n"
     ]
    },
    {
     "data": {
      "image/png": "[encoded data removed]",
      "text/plain": [
       "<matplotlib.figure.Figure at 0x10d4e7eb8>"
      ]
     },
     "metadata": {},
     "output_type": "display_data"
    }
   ],
   "source": [
    "print(flip_coins(10))"
   ]
  },
  {
   "cell_type": "code",
   "execution_count": 6,
   "metadata": {
    "collapsed": false
   },
   "outputs": [
    {
     "name": "stdout",
     "output_type": "stream",
     "text": [
      "0.48\n"
     ]
    },
    {
     "data": {
      "image/png": "[encoded data removed]",
      "text/plain": [
       "<matplotlib.figure.Figure at 0x10d513dd8>"
      ]
     },
     "metadata": {},
     "output_type": "display_data"
    }
   ],
   "source": [
    "print(flip_coins(100))"
   ]
  },
  {
   "cell_type": "code",
   "execution_count": 7,
   "metadata": {
    "collapsed": false
   },
   "outputs": [
    {
     "name": "stdout",
     "output_type": "stream",
     "text": [
      "0.495\n"
     ]
    },
    {
     "data": {
      "image/png": "[encoded data removed]",
      "text/plain": [
       "<matplotlib.figure.Figure at 0x10d6667b8>"
      ]
     },
     "metadata": {},
     "output_type": "display_data"
    }
   ],
   "source": [
    "print(flip_coins(1000))"
   ]
  },
  {
   "cell_type": "code",
   "execution_count": 8,
   "metadata": {
    "collapsed": false
   },
   "outputs": [
    {
     "name": "stdout",
     "output_type": "stream",
     "text": [
      "0.5042\n"
     ]
    },
    {
     "data": {
      "image/png": "[encoded data removed]",
      "text/plain": [
       "<matplotlib.figure.Figure at 0x10d49c358>"
      ]
     },
     "metadata": {},
     "output_type": "display_data"
    }
   ],
   "source": [
    "print(flip_coins(10000))"
   ]
  },
  {
   "cell_type": "code",
   "execution_count": 9,
   "metadata": {
    "collapsed": false
   },
   "outputs": [
    {
     "name": "stdout",
     "output_type": "stream",
     "text": [
      "0.0\n"
     ]
    }
   ],
   "source": [
    "####\n",
    "# hypothesis testing\n",
    "d = pd.read_csv(\"heights_weights_genders.csv\") # familiar from our in-class exercise\n",
    "male_heights = d[d[\"Gender\"] == \"Male\"][\"Height\"].values\n",
    "female_heights = d[d[\"Gender\"] == \"Female\"][\"Height\"].values\n",
    "tstat, pvalue, df = sm.stats.ttest_ind(male_heights, female_heights)\n",
    "print(pvalue)"
   ]
  },
  {
   "cell_type": "code",
   "execution_count": 10,
   "metadata": {
    "collapsed": true
   },
   "outputs": [],
   "source": [
    "#### frequentist v bayesian; a strawman example ####"
   ]
  },
  {
   "cell_type": "code",
   "execution_count": 12,
   "metadata": {
    "collapsed": false
   },
   "outputs": [
    {
     "name": "stdout",
     "output_type": "stream",
     "text": [
      "0.0\n"
     ]
    },
    {
     "data": {
      "image/png": "[encoded data removed]",
      "text/plain": [
       "<matplotlib.figure.Figure at 0x10d4e7198>"
      ]
     },
     "metadata": {},
     "output_type": "display_data"
    }
   ],
   "source": [
    "# let's first take a frequentist estimate from two flips\n",
    "p_hat = flip_coins(2)\n",
    "print(p_hat)"
   ]
  },
  {
   "cell_type": "code",
   "execution_count": 13,
   "metadata": {
    "collapsed": true
   },
   "outputs": [],
   "source": [
    "# yikes! a pretty poor estimate probably (p=0??)\n",
    "import pymc3 # pymc3 is a library for doing bayesian stats and sampling\n",
    "# so we need to set a 'prior' over the parameter of interest,\n",
    "# p ... let's say we feel noncommital, i.e., we have no reason to believe \n",
    "# the coin is going to be fair. in this case, we can use a 'uniform'\n",
    "# prior. it turns out the 'conjugate' prior to the bernoulli is the \n",
    "# beta distribution. here we're telling numpy to draw 1000 samples from \n",
    "# a beta distribution with parameters 1,1"
   ]
  },
  {
   "cell_type": "code",
   "execution_count": 14,
   "metadata": {
    "collapsed": false,
    "scrolled": true
   },
   "outputs": [
    {
     "data": {
      "text/plain": [
       "(array([  88.,  103.,  109.,   97.,  115.,   93.,  103.,   90.,   99.,  103.]),\n",
       " array([ 0.00138661,  0.10121305,  0.20103949,  0.30086592,  0.40069236,\n",
       "         0.5005188 ,  0.60034523,  0.70017167,  0.79999811,  0.89982454,\n",
       "         0.99965098]),\n",
       " <a list of 10 Patch objects>)"
      ]
     },
     "execution_count": 14,
     "metadata": {},
     "output_type": "execute_result"
    },
    {
     "data": {
      "image/png": "[encoded data removed]",
      "text/plain": [
       "<matplotlib.figure.Figure at 0x10dfc6320>"
      ]
     },
     "metadata": {},
     "output_type": "display_data"
    }
   ],
   "source": [
    "plt.hist(np.random.beta(1,1,1000))"
   ]
  },
  {
   "cell_type": "code",
   "execution_count": 15,
   "metadata": {
    "collapsed": false
   },
   "outputs": [],
   "source": [
    "import pymc3\n",
    "import scipy.stats as stats\n",
    "from pymc3.distributions import Beta\n",
    "\n",
    "def run_inference(alpha, beta, n=2, h=0, niter = 1000):\n",
    "    with pymc3.Model() as model:\n",
    "        # define prior; as above\n",
    "        p = pymc3.Beta('p', alpha=alpha, beta=beta)\n",
    "        y = pymc3.Binomial('y', n=n, p=p, observed=h)\n",
    "        start = pymc3.find_MAP()\n",
    "        step = pymc3.Metropolis() \n",
    "        trace = pymc3.sample(niter, step, start, random_seed=123, progressbar=True)\n",
    "\n",
    "    plt.hist(trace['p'], 15, histtype='step', normed=True, label='post')\n",
    "    x = np.linspace(0, 1, 100)\n",
    "    plt.plot(x, stats.beta.pdf(x, alpha, beta), label='prior')\n",
    "    plt.legend(loc='best')"
   ]
  },
  {
   "cell_type": "code",
   "execution_count": 16,
   "metadata": {
    "collapsed": false
   },
   "outputs": [
    {
     "name": "stdout",
     "output_type": "stream",
     "text": [
      "Applied logodds-transform to p and added transformed p_logodds to model.\n",
      " [-----------------100%-----------------] 1000 of 1000 complete in 0.2 sec"
     ]
    },
    {
     "data": {
      "image/png": "[encoded data removed]",
      "text/plain": [
       "<matplotlib.figure.Figure at 0x10f10b390>"
      ]
     },
     "metadata": {},
     "output_type": "display_data"
    }
   ],
   "source": [
    "run_inference(1,1)"
   ]
  },
  {
   "cell_type": "code",
   "execution_count": 17,
   "metadata": {
    "collapsed": false
   },
   "outputs": [
    {
     "data": {
      "text/plain": [
       "(array([  25.,   63.,  126.,  172.,  199.,  172.,  121.,   88.,   24.,   10.]),\n",
       " array([ 0.1380953 ,  0.21609339,  0.29409147,  0.37208956,  0.45008764,\n",
       "         0.52808572,  0.60608381,  0.68408189,  0.76207998,  0.84007806,\n",
       "         0.91807615]),\n",
       " <a list of 10 Patch objects>)"
      ]
     },
     "execution_count": 17,
     "metadata": {},
     "output_type": "execute_result"
    },
    {
     "data": {
      "image/png": "[encoded data removed]",
      "text/plain": [
       "<matplotlib.figure.Figure at 0x10ec78c50>"
      ]
     },
     "metadata": {},
     "output_type": "display_data"
    }
   ],
   "source": [
    "plt.hist(np.random.beta(5,5,1000))"
   ]
  },
  {
   "cell_type": "code",
   "execution_count": 18,
   "metadata": {
    "collapsed": false,
    "scrolled": true
   },
   "outputs": [
    {
     "name": "stdout",
     "output_type": "stream",
     "text": [
      "Applied logodds-transform to p and added transformed p_logodds to model.\n",
      " [-----------------100%-----------------] 1000 of 1000 complete in 0.1 sec"
     ]
    },
    {
     "data": {
      "image/png": "[encoded data removed]",
      "text/plain": [
       "<matplotlib.figure.Figure at 0x10f9adf98>"
      ]
     },
     "metadata": {},
     "output_type": "display_data"
    }
   ],
   "source": [
    "run_inference(5,5)"
   ]
  },
  {
   "cell_type": "code",
   "execution_count": null,
   "metadata": {
    "collapsed": true
   },
   "outputs": [],
   "source": []
  }
 ],
 "metadata": {
  "kernelspec": {
   "display_name": "Python 3",
   "language": "python",
   "name": "python3"
  },
  "language_info": {
   "codemirror_mode": {
    "name": "ipython",
    "version": 3
   },
   "file_extension": ".py",
   "mimetype": "text/x-python",
   "name": "python",
   "nbconvert_exporter": "python",
   "pygments_lexer": "ipython3",
   "version": "3.4.3"
  }
 },
 "nbformat": 4,
 "nbformat_minor": 0
}
